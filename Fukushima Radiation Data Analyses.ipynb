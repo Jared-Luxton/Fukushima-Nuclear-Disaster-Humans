{
 "cells": [
  {
   "cell_type": "code",
   "execution_count": 846,
   "metadata": {},
   "outputs": [],
   "source": [
    "import numpy as np\n",
    "import pandas as pd\n",
    "import os\n",
    "import matplotlib.pyplot as plt\n",
    "from sklearn import datasets, linear_model\n",
    "from sklearn.preprocessing import Imputer\n",
    "from difflib import SequenceMatcher\n",
    "import seaborn as sns\n",
    "from statistics import mean \n",
    "from ast import literal_eval\n",
    "from scipy import stats"
   ]
  },
  {
   "cell_type": "code",
   "execution_count": 847,
   "metadata": {},
   "outputs": [],
   "source": [
    "### Initiating Exploratory Data Analyses and Stats of the Fukushima Boar Project ###\n",
    "\n",
    "# Aim of the project is to use (>200) wild boar roaming the contaminated areas around Fukushima as proxies for humans.\n",
    "# In doing so, by evaluating the health of boars we can evaluate whether the areas are safe for humans to reinhabit.\n",
    "# We'll look at a few biometrics in these boars:\n",
    "\n",
    "# Telomere Length\n",
    "# Cortisol levels\n",
    "# Dicentric chromosome freqs\n",
    "# External / internal dose\n",
    "# Psuedo-pelger hewitt anomalies\n",
    "\n",
    "# The data collected for this project was accumulated over >3 years by 3 graduate students:\n",
    "# Kelly Cunningham\n",
    "# Joshua Hayes\n",
    "# Aryn Bordman\n",
    "\n",
    "# I (Jared Luxton) am responsible for merging/synthesizing and analyzing the data. Because the data is from different people\n",
    "# over long periods of time, it's fragmented into different files/formats and naming conventions. As well, some analyses/measurements\n",
    "# are available for some boar but not others. It's unknown how many boar will have a complete set of measurements.\n",
    "# Hence, the first objective(s) are to merge and clean the data. Because all analysis files will contain sample IDs,\n",
    "# my strategy for merging the data will be to create a consistent format for sample ID in each file, allowing\n",
    "# the dataframes to be merged on sample ID."
   ]
  },
  {
   "cell_type": "code",
   "execution_count": 848,
   "metadata": {},
   "outputs": [
    {
     "name": "stdout",
     "output_type": "stream",
     "text": [
      "success loading boar cortisol data\n",
      "success loading Fukushima data\n"
     ]
    }
   ],
   "source": [
    "for file in os.scandir('.'):\n",
    "    if 'boar snake master template' in file.name:\n",
    "        try:\n",
    "            ### Make dataframe from Excel file containing Fukushima boar data from Aryn\n",
    "            df = pd.read_excel(file, sheet_name=0)\n",
    "            \n",
    "            ###And a dataframe for Fukushima snake data from Aryn\n",
    "            snake_df = pd.read_excel(file, sheet_name=1)\n",
    "            print('success loading Fukushima data')\n",
    "        \n",
    "        except:\n",
    "            print(f'error loading boar/snake data...OTHER files {file.name}')\n",
    "            \n",
    "    if 'boar cortisol' in file.name:\n",
    "        try:\n",
    "            ###Make dataframe from cortisol values; some shared sample IDs with the boar df\n",
    "            cortisol_df = pd.read_excel(file, sheet_name=0)\n",
    "            print('success loading boar cortisol data')\n",
    "        except:\n",
    "            print(f'error loading cortisol data...{file.name}')"
   ]
  },
  {
   "cell_type": "code",
   "execution_count": 849,
   "metadata": {},
   "outputs": [
    {
     "data": {
      "text/html": [
       "<div>\n",
       "<style scoped>\n",
       "    .dataframe tbody tr th:only-of-type {\n",
       "        vertical-align: middle;\n",
       "    }\n",
       "\n",
       "    .dataframe tbody tr th {\n",
       "        vertical-align: top;\n",
       "    }\n",
       "\n",
       "    .dataframe thead th {\n",
       "        text-align: right;\n",
       "    }\n",
       "</style>\n",
       "<table border=\"1\" class=\"dataframe\">\n",
       "  <thead>\n",
       "    <tr style=\"text-align: right;\">\n",
       "      <th></th>\n",
       "      <th>Exposure Status</th>\n",
       "      <th>Sample ID</th>\n",
       "      <th>Sex</th>\n",
       "      <th>Age</th>\n",
       "      <th>Age Class</th>\n",
       "      <th>Estimated Age (months)</th>\n",
       "      <th>External Dose (uSv)</th>\n",
       "      <th>Internal Dose (uSv)</th>\n",
       "      <th>qPCR ID</th>\n",
       "      <th>Concentration (ng/mcL)</th>\n",
       "      <th>260/280</th>\n",
       "      <th>Normalized T/A Average (Average Telomere Length)</th>\n",
       "      <th>Cortisol</th>\n",
       "      <th>Dicentrics (TC-FISH)</th>\n",
       "      <th>PH anomalies</th>\n",
       "    </tr>\n",
       "  </thead>\n",
       "  <tbody>\n",
       "    <tr>\n",
       "      <th>0</th>\n",
       "      <td>Control</td>\n",
       "      <td>180526C3</td>\n",
       "      <td>M</td>\n",
       "      <td>NaN</td>\n",
       "      <td>Yearling</td>\n",
       "      <td>15</td>\n",
       "      <td>0.38</td>\n",
       "      <td>NaN</td>\n",
       "      <td>C1</td>\n",
       "      <td>14.5</td>\n",
       "      <td>1.90</td>\n",
       "      <td>0.910559</td>\n",
       "      <td>NaN</td>\n",
       "      <td>NaN</td>\n",
       "      <td>NaN</td>\n",
       "    </tr>\n",
       "    <tr>\n",
       "      <th>1</th>\n",
       "      <td>Control</td>\n",
       "      <td>180528C2</td>\n",
       "      <td>F</td>\n",
       "      <td>NaN</td>\n",
       "      <td>Juv</td>\n",
       "      <td>8</td>\n",
       "      <td>-</td>\n",
       "      <td>NaN</td>\n",
       "      <td>C2</td>\n",
       "      <td>17.3</td>\n",
       "      <td>1.73</td>\n",
       "      <td>0.985085</td>\n",
       "      <td>NaN</td>\n",
       "      <td>NaN</td>\n",
       "      <td>NaN</td>\n",
       "    </tr>\n",
       "    <tr>\n",
       "      <th>2</th>\n",
       "      <td>Control</td>\n",
       "      <td>180604C2</td>\n",
       "      <td>F</td>\n",
       "      <td>NaN</td>\n",
       "      <td>Yearling</td>\n",
       "      <td>18</td>\n",
       "      <td>0.46</td>\n",
       "      <td>NaN</td>\n",
       "      <td>C3</td>\n",
       "      <td>15.8</td>\n",
       "      <td>1.90</td>\n",
       "      <td>1.117980</td>\n",
       "      <td>NaN</td>\n",
       "      <td>NaN</td>\n",
       "      <td>NaN</td>\n",
       "    </tr>\n",
       "  </tbody>\n",
       "</table>\n",
       "</div>"
      ],
      "text/plain": [
       "  Exposure Status Sample ID Sex  Age Age Class Estimated Age (months)  \\\n",
       "0         Control  180526C3   M  NaN  Yearling                     15   \n",
       "1         Control  180528C2   F  NaN       Juv                      8   \n",
       "2         Control  180604C2   F  NaN  Yearling                     18   \n",
       "\n",
       "  External Dose (uSv)  Internal Dose (uSv) qPCR ID  Concentration (ng/mcL)  \\\n",
       "0                0.38                  NaN      C1                    14.5   \n",
       "1                   -                  NaN      C2                    17.3   \n",
       "2                0.46                  NaN      C3                    15.8   \n",
       "\n",
       "   260/280  Normalized T/A Average (Average Telomere Length)  Cortisol  \\\n",
       "0     1.90                                          0.910559       NaN   \n",
       "1     1.73                                          0.985085       NaN   \n",
       "2     1.90                                          1.117980       NaN   \n",
       "\n",
       "   Dicentrics (TC-FISH)  PH anomalies  \n",
       "0                   NaN           NaN  \n",
       "1                   NaN           NaN  \n",
       "2                   NaN           NaN  "
      ]
     },
     "execution_count": 849,
     "metadata": {},
     "output_type": "execute_result"
    }
   ],
   "source": [
    "df.head(3)"
   ]
  },
  {
   "cell_type": "code",
   "execution_count": 850,
   "metadata": {},
   "outputs": [
    {
     "data": {
      "text/html": [
       "<div>\n",
       "<style scoped>\n",
       "    .dataframe tbody tr th:only-of-type {\n",
       "        vertical-align: middle;\n",
       "    }\n",
       "\n",
       "    .dataframe tbody tr th {\n",
       "        vertical-align: top;\n",
       "    }\n",
       "\n",
       "    .dataframe thead th {\n",
       "        text-align: right;\n",
       "    }\n",
       "</style>\n",
       "<table border=\"1\" class=\"dataframe\">\n",
       "  <thead>\n",
       "    <tr style=\"text-align: right;\">\n",
       "      <th></th>\n",
       "      <th>Sample ID</th>\n",
       "      <th>Concentration (ng/mcL)</th>\n",
       "      <th>260/280</th>\n",
       "      <th>Sex</th>\n",
       "      <th>External Dose (uSv)</th>\n",
       "      <th>Internal Dose (uSv)</th>\n",
       "      <th>Telomere Length</th>\n",
       "    </tr>\n",
       "  </thead>\n",
       "  <tbody>\n",
       "    <tr>\n",
       "      <th>0</th>\n",
       "      <td>CEC10</td>\n",
       "      <td>19.3</td>\n",
       "      <td>1.96</td>\n",
       "      <td>F</td>\n",
       "      <td>0.10</td>\n",
       "      <td>NaN</td>\n",
       "      <td>0.444298</td>\n",
       "    </tr>\n",
       "    <tr>\n",
       "      <th>1</th>\n",
       "      <td>CEC18</td>\n",
       "      <td>63.7</td>\n",
       "      <td>1.83</td>\n",
       "      <td>F</td>\n",
       "      <td>0.16</td>\n",
       "      <td>NaN</td>\n",
       "      <td>0.826190</td>\n",
       "    </tr>\n",
       "    <tr>\n",
       "      <th>2</th>\n",
       "      <td>CEC22</td>\n",
       "      <td>45.5</td>\n",
       "      <td>1.88</td>\n",
       "      <td>F</td>\n",
       "      <td>0.17</td>\n",
       "      <td>NaN</td>\n",
       "      <td>2.067214</td>\n",
       "    </tr>\n",
       "  </tbody>\n",
       "</table>\n",
       "</div>"
      ],
      "text/plain": [
       "  Sample ID  Concentration (ng/mcL)  260/280 Sex  External Dose (uSv)  \\\n",
       "0     CEC10                    19.3     1.96   F                 0.10   \n",
       "1     CEC18                    63.7     1.83   F                 0.16   \n",
       "2     CEC22                    45.5     1.88   F                 0.17   \n",
       "\n",
       "   Internal Dose (uSv)  Telomere Length  \n",
       "0                  NaN         0.444298  \n",
       "1                  NaN         0.826190  \n",
       "2                  NaN         2.067214  "
      ]
     },
     "execution_count": 850,
     "metadata": {},
     "output_type": "execute_result"
    }
   ],
   "source": [
    "snake_df.head(3)"
   ]
  },
  {
   "cell_type": "code",
   "execution_count": 851,
   "metadata": {},
   "outputs": [
    {
     "data": {
      "text/html": [
       "<div>\n",
       "<style scoped>\n",
       "    .dataframe tbody tr th:only-of-type {\n",
       "        vertical-align: middle;\n",
       "    }\n",
       "\n",
       "    .dataframe tbody tr th {\n",
       "        vertical-align: top;\n",
       "    }\n",
       "\n",
       "    .dataframe thead th {\n",
       "        text-align: right;\n",
       "    }\n",
       "</style>\n",
       "<table border=\"1\" class=\"dataframe\">\n",
       "  <thead>\n",
       "    <tr style=\"text-align: right;\">\n",
       "      <th></th>\n",
       "      <th>Biel #</th>\n",
       "      <th>Date Received</th>\n",
       "      <th>Sample Number (electronic sheet)</th>\n",
       "      <th>Sample ID</th>\n",
       "      <th>Hair wt (mg)</th>\n",
       "      <th>Cortisol (pg/mg)</th>\n",
       "      <th>Re-run</th>\n",
       "      <th>MeOH Color</th>\n",
       "      <th>pH optimal for assay</th>\n",
       "      <th>Hair Type</th>\n",
       "      <th>Hair Length (cm)</th>\n",
       "      <th>Color</th>\n",
       "      <th>Comments</th>\n",
       "      <th>Worked on sample, but not able to process</th>\n",
       "      <th>Hair Took Extra Time</th>\n",
       "      <th>Repeats</th>\n",
       "    </tr>\n",
       "  </thead>\n",
       "  <tbody>\n",
       "    <tr>\n",
       "      <th>0</th>\n",
       "      <td>1</td>\n",
       "      <td>43518</td>\n",
       "      <td>160804-1</td>\n",
       "      <td>160804-1</td>\n",
       "      <td>17.19</td>\n",
       "      <td>22.990111</td>\n",
       "      <td>N</td>\n",
       "      <td>N</td>\n",
       "      <td>normal</td>\n",
       "      <td>course, short</td>\n",
       "      <td>3.81</td>\n",
       "      <td>black scalp and tip ends with tan middle</td>\n",
       "      <td>0</td>\n",
       "      <td>0</td>\n",
       "      <td>0</td>\n",
       "      <td>0</td>\n",
       "    </tr>\n",
       "    <tr>\n",
       "      <th>1</th>\n",
       "      <td>2</td>\n",
       "      <td>43518</td>\n",
       "      <td>161215 T-1</td>\n",
       "      <td>161215 T-1</td>\n",
       "      <td>25.28</td>\n",
       "      <td>29.120000</td>\n",
       "      <td>N</td>\n",
       "      <td>N</td>\n",
       "      <td>normal</td>\n",
       "      <td>course with split ends</td>\n",
       "      <td>5.02</td>\n",
       "      <td>black with tan tips and scalp end</td>\n",
       "      <td>0</td>\n",
       "      <td>0</td>\n",
       "      <td>0</td>\n",
       "      <td>0</td>\n",
       "    </tr>\n",
       "    <tr>\n",
       "      <th>2</th>\n",
       "      <td>3</td>\n",
       "      <td>43518</td>\n",
       "      <td>161215 T-2</td>\n",
       "      <td>161215 T-2</td>\n",
       "      <td>15.85</td>\n",
       "      <td>27.255521</td>\n",
       "      <td>N</td>\n",
       "      <td>N</td>\n",
       "      <td>normal</td>\n",
       "      <td>course with split ends</td>\n",
       "      <td>5.88</td>\n",
       "      <td>black with brown tips</td>\n",
       "      <td>0</td>\n",
       "      <td>0</td>\n",
       "      <td>0</td>\n",
       "      <td>0</td>\n",
       "    </tr>\n",
       "  </tbody>\n",
       "</table>\n",
       "</div>"
      ],
      "text/plain": [
       "   Biel #  Date Received Sample Number (electronic sheet)   Sample ID  \\\n",
       "0       1          43518                        160804-1     160804-1   \n",
       "1       2          43518                      161215 T-1   161215 T-1   \n",
       "2       3          43518                       161215 T-2  161215 T-2   \n",
       "\n",
       "   Hair wt (mg)  Cortisol (pg/mg) Re-run MeOH Color pH optimal for assay  \\\n",
       "0         17.19         22.990111      N          N               normal   \n",
       "1         25.28         29.120000      N          N               normal   \n",
       "2         15.85         27.255521      N          N               normal   \n",
       "\n",
       "                Hair Type  Hair Length (cm)  \\\n",
       "0           course, short              3.81   \n",
       "1  course with split ends              5.02   \n",
       "2  course with split ends              5.88   \n",
       "\n",
       "                                      Color Comments  \\\n",
       "0  black scalp and tip ends with tan middle        0   \n",
       "1         black with tan tips and scalp end        0   \n",
       "2                     black with brown tips        0   \n",
       "\n",
       "   Worked on sample, but not able to process  Hair Took Extra Time  Repeats  \n",
       "0                                          0                     0        0  \n",
       "1                                          0                     0        0  \n",
       "2                                          0                     0        0  "
      ]
     },
     "execution_count": 851,
     "metadata": {},
     "output_type": "execute_result"
    }
   ],
   "source": [
    "cortisol_df.head(3)"
   ]
  },
  {
   "cell_type": "code",
   "execution_count": 853,
   "metadata": {},
   "outputs": [],
   "source": [
    "### Initial pass at cleaning boar data ' df ' from aryn \n",
    "\n",
    "# Cleaning boar data, making missing values NaN\n",
    "df = df.replace('-', np.NaN)\n",
    "\n",
    "# CREATE NUMERICAL REPRESENTATIONS, ALA DUMMY VARIABLES, OF EXPOSURE STATUS .. homogenize sample ids\n",
    "dummies = pd.get_dummies(df['Exposure Status'], prefix='Encoded', drop_first=True)\n",
    "df['Encoded Exposed'] = dummies['Encoded_Exposed']\n",
    "\n",
    "# this function cleans 'Sample ID's by removing whitespace & dashes\n",
    "def remove_dashes_space_sampleIDs(df):\n",
    "    sample_id_cleaned = []\n",
    "    for row in df['Sample ID']:\n",
    "        if '-' in str(row):\n",
    "            row = str(row).replace('-', '').replace(' ', '')\n",
    "            sample_id_cleaned.append(row)\n",
    "        elif ' ' in str(row):\n",
    "            row = str(row).replace(' ', '')\n",
    "            sample_id_cleaned.append(row)\n",
    "        elif row == 'nan':\n",
    "            continue\n",
    "        else:\n",
    "            sample_id_cleaned.append(str(row))\n",
    "            continue\n",
    "    return sample_id_cleaned\n",
    "\n",
    "# cleaning 'Sample ID'\n",
    "df['Sample ID'] = remove_dashes_space_sampleIDs(df)"
   ]
  },
  {
   "cell_type": "code",
   "execution_count": 854,
   "metadata": {},
   "outputs": [],
   "source": [
    "### Preparing to merge cortisol data values w/ sample IDs in main boar df \n",
    "\n",
    "cortisol_df_samples = pd.DataFrame(cortisol_df['Sample ID'])\n",
    "cortisol_df_samples['Sample Number (electronic sheet)'] = cortisol_df['Sample Number (electronic sheet)']\n",
    "cortisol_df_samples['Cortisol (pg/mg)'] = cortisol_df['Cortisol (pg/mg)']\n",
    "\n",
    "cortisol_df_samples.iloc[14, 0] = cortisol_df_samples.iloc[14,1]\n",
    "cortisol_df_samples['Sample ID'] = cortisol_df_samples['Sample ID'].astype('str')\n",
    "\n",
    "### CLEANING SAMPLE IDs IN CORTISOL DATA\n",
    "        \n",
    "cortisol_df_samples['Sample ID'] = remove_dashes_space_sampleIDs(cortisol_df)\n",
    "\n",
    "### MERGING CORTISOL DATA W/ BOAR DATA via SAMPLE ID\n",
    "\n",
    "merged_df_cortisol = df.merge(cortisol_df_samples, on=['Sample ID'])\n",
    "aryn_teloPCR_cort_rad = merged_df_cortisol.drop(axis=1, labels=['Concentration (ng/mcL)','260/280', 'qPCR ID', 'Cortisol'])"
   ]
  },
  {
   "cell_type": "code",
   "execution_count": 855,
   "metadata": {},
   "outputs": [],
   "source": [
    "### Making radiation exposure status of snakes more readable\n",
    "\n",
    "Exposure_Status = []\n",
    "for row in snake_df['Sample ID']:\n",
    "    if row.startswith('C'):\n",
    "        Exposure_Status.append('Control')\n",
    "    elif row.startswith('E'):\n",
    "        Exposure_Status.append('Exposed')\n",
    "snake_df['Exposure Status'] = Exposure_Status\n",
    "\n",
    "### making dummy variables for snake exposure status\n",
    "snake_dum = pd.get_dummies(snake_df['Exposure Status'], prefix='Encoded', drop_first=True)\n",
    "snake_df['Encoded Exposed'] = snake_dum"
   ]
  },
  {
   "cell_type": "code",
   "execution_count": 857,
   "metadata": {},
   "outputs": [
    {
     "data": {
      "text/html": [
       "<div>\n",
       "<style scoped>\n",
       "    .dataframe tbody tr th:only-of-type {\n",
       "        vertical-align: middle;\n",
       "    }\n",
       "\n",
       "    .dataframe tbody tr th {\n",
       "        vertical-align: top;\n",
       "    }\n",
       "\n",
       "    .dataframe thead th {\n",
       "        text-align: right;\n",
       "    }\n",
       "</style>\n",
       "<table border=\"1\" class=\"dataframe\">\n",
       "  <thead>\n",
       "    <tr style=\"text-align: right;\">\n",
       "      <th></th>\n",
       "      <th>Exposure Status</th>\n",
       "      <th>Sample ID</th>\n",
       "      <th>Sex</th>\n",
       "      <th>Age</th>\n",
       "      <th>Age Class</th>\n",
       "      <th>Estimated Age (months)</th>\n",
       "      <th>External Dose (uSv)</th>\n",
       "      <th>Internal Dose (uSv)</th>\n",
       "      <th>Normalized T/A Average (Average Telomere Length)</th>\n",
       "      <th>Dicentrics (TC-FISH)</th>\n",
       "      <th>PH anomalies</th>\n",
       "      <th>Encoded Exposed</th>\n",
       "      <th>Sample Number (electronic sheet)</th>\n",
       "      <th>Cortisol (pg/mg)</th>\n",
       "    </tr>\n",
       "  </thead>\n",
       "  <tbody>\n",
       "    <tr>\n",
       "      <th>0</th>\n",
       "      <td>Control</td>\n",
       "      <td>180612C1</td>\n",
       "      <td>M</td>\n",
       "      <td>NaN</td>\n",
       "      <td>Yearling</td>\n",
       "      <td>15.0</td>\n",
       "      <td>0.27</td>\n",
       "      <td>NaN</td>\n",
       "      <td>1.260040</td>\n",
       "      <td>NaN</td>\n",
       "      <td>NaN</td>\n",
       "      <td>0</td>\n",
       "      <td>180612-C1</td>\n",
       "      <td>6.134715</td>\n",
       "    </tr>\n",
       "    <tr>\n",
       "      <th>1</th>\n",
       "      <td>Control</td>\n",
       "      <td>180604C1</td>\n",
       "      <td>M</td>\n",
       "      <td>NaN</td>\n",
       "      <td>Juv</td>\n",
       "      <td>8.0</td>\n",
       "      <td>0.22</td>\n",
       "      <td>NaN</td>\n",
       "      <td>1.251346</td>\n",
       "      <td>NaN</td>\n",
       "      <td>NaN</td>\n",
       "      <td>0</td>\n",
       "      <td>180604-C1</td>\n",
       "      <td>9.372937</td>\n",
       "    </tr>\n",
       "    <tr>\n",
       "      <th>2</th>\n",
       "      <td>Control</td>\n",
       "      <td>180627C2</td>\n",
       "      <td>M</td>\n",
       "      <td>NaN</td>\n",
       "      <td>Juv+</td>\n",
       "      <td>10.0</td>\n",
       "      <td>0.20</td>\n",
       "      <td>NaN</td>\n",
       "      <td>1.382618</td>\n",
       "      <td>NaN</td>\n",
       "      <td>NaN</td>\n",
       "      <td>0</td>\n",
       "      <td>180627-C2</td>\n",
       "      <td>13.472222</td>\n",
       "    </tr>\n",
       "  </tbody>\n",
       "</table>\n",
       "</div>"
      ],
      "text/plain": [
       "  Exposure Status Sample ID Sex  Age Age Class  Estimated Age (months)  \\\n",
       "0         Control  180612C1   M  NaN  Yearling                    15.0   \n",
       "1         Control  180604C1   M  NaN       Juv                     8.0   \n",
       "2         Control  180627C2   M  NaN    Juv+                      10.0   \n",
       "\n",
       "   External Dose (uSv)  Internal Dose (uSv)  \\\n",
       "0                 0.27                  NaN   \n",
       "1                 0.22                  NaN   \n",
       "2                 0.20                  NaN   \n",
       "\n",
       "   Normalized T/A Average (Average Telomere Length)  Dicentrics (TC-FISH)  \\\n",
       "0                                          1.260040                   NaN   \n",
       "1                                          1.251346                   NaN   \n",
       "2                                          1.382618                   NaN   \n",
       "\n",
       "   PH anomalies  Encoded Exposed Sample Number (electronic sheet)  \\\n",
       "0           NaN                0                        180612-C1   \n",
       "1           NaN                0                        180604-C1   \n",
       "2           NaN                0                        180627-C2   \n",
       "\n",
       "   Cortisol (pg/mg)  \n",
       "0          6.134715  \n",
       "1          9.372937  \n",
       "2         13.472222  "
      ]
     },
     "execution_count": 857,
     "metadata": {},
     "output_type": "execute_result"
    }
   ],
   "source": [
    "aryn_teloPCR_cort_rad.head(3)"
   ]
  },
  {
   "cell_type": "code",
   "execution_count": 858,
   "metadata": {},
   "outputs": [
    {
     "data": {
      "text/html": [
       "<div>\n",
       "<style scoped>\n",
       "    .dataframe tbody tr th:only-of-type {\n",
       "        vertical-align: middle;\n",
       "    }\n",
       "\n",
       "    .dataframe tbody tr th {\n",
       "        vertical-align: top;\n",
       "    }\n",
       "\n",
       "    .dataframe thead th {\n",
       "        text-align: right;\n",
       "    }\n",
       "</style>\n",
       "<table border=\"1\" class=\"dataframe\">\n",
       "  <thead>\n",
       "    <tr style=\"text-align: right;\">\n",
       "      <th></th>\n",
       "      <th>Sample ID</th>\n",
       "      <th>Concentration (ng/mcL)</th>\n",
       "      <th>260/280</th>\n",
       "      <th>Sex</th>\n",
       "      <th>External Dose (uSv)</th>\n",
       "      <th>Internal Dose (uSv)</th>\n",
       "      <th>Telomere Length</th>\n",
       "      <th>Exposure Status</th>\n",
       "      <th>Encoded Exposed</th>\n",
       "    </tr>\n",
       "  </thead>\n",
       "  <tbody>\n",
       "    <tr>\n",
       "      <th>0</th>\n",
       "      <td>CEC10</td>\n",
       "      <td>19.3</td>\n",
       "      <td>1.96</td>\n",
       "      <td>F</td>\n",
       "      <td>0.10</td>\n",
       "      <td>NaN</td>\n",
       "      <td>0.444298</td>\n",
       "      <td>Control</td>\n",
       "      <td>0</td>\n",
       "    </tr>\n",
       "    <tr>\n",
       "      <th>1</th>\n",
       "      <td>CEC18</td>\n",
       "      <td>63.7</td>\n",
       "      <td>1.83</td>\n",
       "      <td>F</td>\n",
       "      <td>0.16</td>\n",
       "      <td>NaN</td>\n",
       "      <td>0.826190</td>\n",
       "      <td>Control</td>\n",
       "      <td>0</td>\n",
       "    </tr>\n",
       "    <tr>\n",
       "      <th>2</th>\n",
       "      <td>CEC22</td>\n",
       "      <td>45.5</td>\n",
       "      <td>1.88</td>\n",
       "      <td>F</td>\n",
       "      <td>0.17</td>\n",
       "      <td>NaN</td>\n",
       "      <td>2.067214</td>\n",
       "      <td>Control</td>\n",
       "      <td>0</td>\n",
       "    </tr>\n",
       "    <tr>\n",
       "      <th>3</th>\n",
       "      <td>CEC23</td>\n",
       "      <td>32.6</td>\n",
       "      <td>1.83</td>\n",
       "      <td>F</td>\n",
       "      <td>0.20</td>\n",
       "      <td>NaN</td>\n",
       "      <td>1.389182</td>\n",
       "      <td>Control</td>\n",
       "      <td>0</td>\n",
       "    </tr>\n",
       "    <tr>\n",
       "      <th>4</th>\n",
       "      <td>CEC3</td>\n",
       "      <td>NaN</td>\n",
       "      <td>1.83</td>\n",
       "      <td>M</td>\n",
       "      <td>0.09</td>\n",
       "      <td>NaN</td>\n",
       "      <td>NaN</td>\n",
       "      <td>Control</td>\n",
       "      <td>0</td>\n",
       "    </tr>\n",
       "  </tbody>\n",
       "</table>\n",
       "</div>"
      ],
      "text/plain": [
       "  Sample ID  Concentration (ng/mcL)  260/280 Sex  External Dose (uSv)  \\\n",
       "0     CEC10                    19.3     1.96   F                 0.10   \n",
       "1     CEC18                    63.7     1.83   F                 0.16   \n",
       "2     CEC22                    45.5     1.88   F                 0.17   \n",
       "3     CEC23                    32.6     1.83   F                 0.20   \n",
       "4      CEC3                     NaN     1.83   M                 0.09   \n",
       "\n",
       "   Internal Dose (uSv)  Telomere Length Exposure Status  Encoded Exposed  \n",
       "0                  NaN         0.444298         Control                0  \n",
       "1                  NaN         0.826190         Control                0  \n",
       "2                  NaN         2.067214         Control                0  \n",
       "3                  NaN         1.389182         Control                0  \n",
       "4                  NaN              NaN         Control                0  "
      ]
     },
     "execution_count": 858,
     "metadata": {},
     "output_type": "execute_result"
    }
   ],
   "source": [
    "snake_df.head()"
   ]
  },
  {
   "cell_type": "code",
   "execution_count": 859,
   "metadata": {},
   "outputs": [
    {
     "data": {
      "text/plain": [
       "<matplotlib.axes._subplots.AxesSubplot at 0x176426cf8>"
      ]
     },
     "execution_count": 859,
     "metadata": {},
     "output_type": "execute_result"
    },
    {
     "data": {
      "image/png": "[encoded data removed]",
      "text/plain": [
       "<Figure size 441.875x360 with 1 Axes>"
      ]
     },
     "metadata": {},
     "output_type": "display_data"
    }
   ],
   "source": [
    "#Use lmplot to plot scatter points\n",
    "# Create lmplot\n",
    "ag = sns.lmplot(x='Normalized T/A Average (Average Telomere Length)', y='Cortisol (pg/mg)', hue='Exposure Status', \n",
    "                data=aryn_teloPCR_cort_rad, fit_reg=False)\n",
    "\n",
    "# Access the figure & add title\n",
    "fig = ag.fig\n",
    "fig.suptitle(\"Normalized Average Telomere Length by qPCR vs. Cortisol for Fukushima Boars\", fontsize=12)\n",
    "\n",
    "#Use regplot to plot the regression line for the whole points\n",
    "sns.regplot(x='Normalized T/A Average (Average Telomere Length)', y='Cortisol (pg/mg)', \n",
    "            data=aryn_teloPCR_cort_rad, scatter=False, ax=ag.axes[0, 0])\n",
    "\n",
    "# plt.savefig(f'Normalized Average Telomere Length by qPCR vs. Cortisol for Fukushima Boars.pdf')"
   ]
  },
  {
   "cell_type": "code",
   "execution_count": 639,
   "metadata": {},
   "outputs": [
    {
     "data": {
      "image/png": "[encoded data removed]",
      "text/plain": [
       "<Figure size 441.875x360 with 1 Axes>"
      ]
     },
     "metadata": {},
     "output_type": "display_data"
    }
   ],
   "source": [
    "#Use lmplot to plot scatter points\n",
    "# graph = sns.lmplot(x='x_value', y='y_value', hue='water_value', data=df, fit_reg=False)\n",
    "#Use regplot to plot the regression line for the whole points\n",
    "# sns.regplot(x='x_value', y='y_value', data=df, scatter=False, ax=graph.axes[0, 0]))\n",
    "\n",
    "# Create lmplot\n",
    "ag = sns.lmplot(x='External Dose (uSv)', y='Cortisol (pg/mg)', hue='Exposure Status', \n",
    "                data=aryn_teloPCR_cort_rad, fit_reg=False)\n",
    "# Access the figure\n",
    "fig = ag.fig\n",
    "\n",
    "# Add title to Figure\n",
    "fig.suptitle(\"External Dose (uSv) vs. Cortisol for Fukushima Boars\", fontsize=12)\n",
    "\n",
    "sns.regplot(x='External Dose (uSv)', y='Cortisol (pg/mg)', \n",
    "            data=aryn_teloPCR_cort_rad, scatter=False, ax=ag.axes[0, 0])\n",
    "\n",
    "plt.savefig(f'External Dose (uSv) vs. Cortisol for Fukushima Boars.pdf')\n",
    "\n",
    "# let's try a violin plot next!!"
   ]
  },
  {
   "cell_type": "code",
   "execution_count": 926,
   "metadata": {},
   "outputs": [
    {
     "data": {
      "text/plain": [
       "Sex  Exposure Status\n",
       "F    Control             5\n",
       "     Exposed            13\n",
       "M    Control             8\n",
       "     Exposed            20\n",
       "dtype: int64"
      ]
     },
     "execution_count": 926,
     "metadata": {},
     "output_type": "execute_result"
    },
    {
     "data": {
      "image/png": "[encoded data removed]",
      "text/plain": [
       "<Figure size 720x360 with 1 Axes>"
      ]
     },
     "metadata": {},
     "output_type": "display_data"
    }
   ],
   "source": [
    "sns.set_style('darkgrid')\n",
    "fig = plt.figure(figsize=(10,5))\n",
    "ax = sns.boxenplot(x='Exposure Status', y='Normalized T/A Average (Average Telomere Length)', hue='Sex', data=df)\n",
    "ax = sns.stripplot(x='Exposure Status', y='Normalized T/A Average (Average Telomere Length)', hue='Sex', data=df, \n",
    "                   dodge=True, edgecolor='black', linewidth=.75)\n",
    "ax=fig.gca()\n",
    "ax.set_title('Telomere Length by qPCR for Control/Exposed Boars', fontsize=14)\n",
    "ax.set_xlabel('Exposure Status', fontsize=14)\n",
    "ax.set_ylabel('Average Telomere Length by qPCR', fontsize=14)\n",
    "\n",
    "df.groupby(by=['Sex', 'Exposure Status']).size()\n",
    "\n",
    "#GREATER EFFECT OF RADIATION ON FEMALE BOAR? sample size?\n",
    "\n",
    "# >>> ax = sns.boxplot(x=\"tip\", y=\"day\", data=tips, whis=np.inf)\n",
    "# >>> ax = sns.stripplot(x=\"tip\", y=\"day\", data=tips,\n",
    "# ...                    jitter=True, color=\".3\")"
   ]
  },
  {
   "cell_type": "code",
   "execution_count": 861,
   "metadata": {},
   "outputs": [],
   "source": [
    "### Next.. let's work on grabbing Kelly's telomere length by Fluoresence Intensity Hybridiziation (FISH) files\n",
    "\n",
    "# This function allows us to rescue telomere signals lost during the telomere FISH imaging / quantification process.\n",
    "# where telomeres (both long & short) are lost at random. This function randomly samples observed telomere length values\n",
    "# up to the maximum theoretical number of telos, given n # of cells & # telos per cell \n",
    "\n",
    "def gen_missing_values_andimpute_or_randomsampledown(n_cells, telosPercell, df):\n",
    "    \n",
    "    max_telos = n_cells * telosPercell\n",
    "    half_telos = (n_cells * telosPercell) / 2\n",
    "\n",
    "    if df.size > max_telos:\n",
    "        df_sampled = df.sample(max_telos)\n",
    "        return df_sampled\n",
    "\n",
    "    if df.size > 25 and df.size <= half_telos:\n",
    "        missing_data_difference = abs( (n_cells * telosPercell) - df.size )\n",
    "        rsampled = df.sample(missing_data_difference, replace=True, random_state=28)\n",
    "        concat_ed = pd.concat([rsampled, df], sort=False)\n",
    "        np.random.shuffle(concat_ed.to_numpy())\n",
    "        return concat_ed\n",
    "\n",
    "    if df.size > 25 and df.size < max_telos:\n",
    "        missing_data_difference = abs( (n_cells * telosPercell) - df.size )\n",
    "        rsampled = df.sample(missing_data_difference, random_state=28)\n",
    "        concat_ed = pd.concat([rsampled, df], sort=False)\n",
    "        np.random.shuffle(concat_ed.to_numpy())\n",
    "        return concat_ed\n",
    "    \n",
    "    else:\n",
    "        return df\n",
    "\n",
    "# axis labels of values within the telomere length excel values that are NOT\n",
    "# telomere length values \n",
    "labels=[6, 172, 338, 504, 670, 836, 1002, 1168, 1334, 1500, 1666, 1832, \n",
    "1998, 2164, 2330, 2496, 2662, 2828, 2994, 3160, 3326, 3492, 3658, 3824,\n",
    "3990, 4156, 4322, 4488, 4654, 4820]\n",
    "\n",
    "labels_offset_by6 = [(x-6) for x in labels]\n",
    "\n",
    "def clean_individ_telos(telo_data):\n",
    "    telo_data = telo_data.drop(labels_offset_by6)\n",
    "    telo_data = pd.to_numeric(telo_data.iloc[:,0], errors='coerce')\n",
    "    telo_data = telo_data.dropna(axis=0, how='any')\n",
    "    telo_data = telo_data.to_frame(name=None)\n",
    "    telo_data = telo_data[(np.abs(stats.zscore(telo_data)) < 3).all(axis=1)]\n",
    "    telo_data = pd.Series(telo_data.iloc[:,0])\n",
    "    telo_data = gen_missing_values_andimpute_or_randomsampledown(30, 160, telo_data)\n",
    "    return telo_data"
   ]
  },
  {
   "cell_type": "code",
   "execution_count": 862,
   "metadata": {},
   "outputs": [],
   "source": [
    "# FUNCTION FOR PULLING KELLY'S TELOFISH DATA FOR 40 BOARS into a LIST.. TO BE MADE INTO A DATAFRAME & JOINED W/ MAIN DATAFRAME if possible\n",
    "# These excel files take forever to load.. the objective here is to synthesize all the excel files for \n",
    "# telomere FISH data into one dataframe, then save that dataframe to csv file to be retrieved later\n",
    "# loading one whole csv file containing all the data will be much, much faster than loading the parts of the whole \n",
    "# Along the way, we'll normalize the teloFISH data using controls internal to each excel file\n",
    "\n",
    "def extract_boar_teloFISH_as_list(path):\n",
    "    boar_teloFISH_list = []\n",
    "    for file in os.scandir(path):\n",
    "        if 'Hyb' in file.name:\n",
    "            print(f'Handling {file.name}...')\n",
    "            telo_excel_dict = pd.read_excel(file.name, sheet_name=None, skiprows=4, usecols=[3], nrows=5000)\n",
    "            if 'Telomere Template' in telo_excel_dict.keys():\n",
    "                del telo_excel_dict['Telomere Template']\n",
    "\n",
    "            excel_file_list = []\n",
    "            for sample_id, telos in telo_excel_dict.items():\n",
    "                telos_cleaned = clean_individ_telos(telos)\n",
    "\n",
    "                if sample_id != 'Control': \n",
    "                    excel_file_list.append([sample_id, telos_cleaned.values, np.mean(telos_cleaned)]) \n",
    "                elif sample_id == 'Control':\n",
    "                    control_value = np.mean(telos_cleaned)\n",
    "\n",
    "            \n",
    "            #normalize teloFISH values by control value \n",
    "            for sample in excel_file_list:\n",
    "                #normalize individual telos\n",
    "                sample[1] = np.divide(sample[1], control_value)\n",
    "                \n",
    "                #normalize telo means\n",
    "                sample[2] = np.divide(sample[2], control_value)\n",
    "                boar_teloFISH_list.append(sample)\n",
    "#                 print(f'{sample[0]} finished..')\n",
    "            \n",
    "    print('Finished collecting boar teloFISH data')\n",
    "    return boar_teloFISH_list\n"
   ]
  },
  {
   "cell_type": "code",
   "execution_count": 863,
   "metadata": {},
   "outputs": [
    {
     "name": "stdout",
     "output_type": "stream",
     "text": [
      "Handling Telomeres - Fukushima Hyb 4 complete.xlsx...\n",
      "Handling Telomeres - Fukushima Hyb 3 complete.xlsx...\n",
      "Handling Telomeres - Fukushima Hyb 6 completed.xlsx...\n",
      "Handling Meredith -- Telomeres - Fukushima Hyb 2.xlsx...\n",
      "Handling Telomeres - Fukushima Hyb 1 complete.xlsx...\n",
      "Handling Telomeres - Fukushima Hyb 5 complete.xlsx...\n",
      "Finished collecting boar teloFISH data\n"
     ]
    }
   ],
   "source": [
    "boar_teloFISH_list = extract_boar_teloFISH_as_list('.')"
   ]
  },
  {
   "cell_type": "code",
   "execution_count": 793,
   "metadata": {},
   "outputs": [],
   "source": [
    "### putting all of kelly's boar telomere FISH data into one dataframe\n",
    "initial_boar_teloFISH_df = pd.DataFrame(boar_teloFISH_list, columns=['Sample ID', 'TeloFISH telos', 'TeloFISH Means'])\n",
    "\n",
    "# turning the teloFISH data, which is a series in each row containing 4800 individial telomere lengths, \n",
    "# into a list in each row so that it's saved & loaded properly\n",
    "# *** saving/loading teloFISH data as dataframe, series, or np.array was throwing issues w/ data integrity\n",
    "initial_boar_teloFISH_df['TeloFISH telos'] = initial_boar_teloFISH_df['TeloFISH telos'].apply(lambda row: row.tolist())\n",
    "\n",
    "# saving data to csv file for later retrieval\n",
    "copy = initial_boar_teloFISH_df\n",
    "copy.to_csv('boar_teloFISH.csv')\n",
    "boar_teloFISH_df = pd.read_csv('boar_teloFISH.csv', index_col=0)\n",
    "\n",
    "# retrieving data & returning teloFISH data to np.arrays from lists using literal eval\n",
    "boar_teloFISH_df['TeloFISH telos'] = boar_teloFISH_df['TeloFISH telos'].apply(lambda row: np.array(literal_eval(row)))\n"
   ]
  },
  {
   "cell_type": "code",
   "execution_count": 794,
   "metadata": {},
   "outputs": [],
   "source": [
    "def remove_dashes_space_sampleIDs(df):\n",
    "    sample_id_cleaned = []\n",
    "    for row in df['Sample ID']:\n",
    "        if '-' in row:\n",
    "            row = row.replace('-', '').replace(' ', '')\n",
    "            sample_id_cleaned.append(row)\n",
    "        elif ' ' in row:\n",
    "            row = row.replace(' ', '')\n",
    "            sample_id_cleaned.append(row)\n",
    "        else:\n",
    "            sample_id_cleaned.append(row)\n",
    "            continue\n",
    "    return sample_id_cleaned\n",
    "\n",
    "boar_teloFISH_df['Sample ID'] = remove_dashes_space_sampleIDs(boar_teloFISH_df)"
   ]
  },
  {
   "cell_type": "code",
   "execution_count": 844,
   "metadata": {},
   "outputs": [
    {
     "data": {
      "text/plain": [
       "<Figure size 1080x1080 with 0 Axes>"
      ]
     },
     "metadata": {},
     "output_type": "display_data"
    }
   ],
   "source": [
    "# sns.distplot(boar_teloFISH_df['TeloFISH telos'][0], bins=40)\n",
    "\n",
    "fig = plt.figure(figsize=(15,15))\n",
    "sns.barplot(y='Sample ID', x='TeloFISH Means', data=boar_teloFISH_df)\n",
    "\n",
    "ax=fig.gca()"
   ]
  },
  {
   "cell_type": "code",
   "execution_count": 845,
   "metadata": {},
   "outputs": [
    {
     "data": {
      "text/html": [
       "<div>\n",
       "<style scoped>\n",
       "    .dataframe tbody tr th:only-of-type {\n",
       "        vertical-align: middle;\n",
       "    }\n",
       "\n",
       "    .dataframe tbody tr th {\n",
       "        vertical-align: top;\n",
       "    }\n",
       "\n",
       "    .dataframe thead th {\n",
       "        text-align: right;\n",
       "    }\n",
       "</style>\n",
       "<table border=\"1\" class=\"dataframe\">\n",
       "  <thead>\n",
       "    <tr style=\"text-align: right;\">\n",
       "      <th></th>\n",
       "      <th>Sample ID</th>\n",
       "      <th>TeloFISH telos</th>\n",
       "      <th>TeloFISH Means</th>\n",
       "    </tr>\n",
       "  </thead>\n",
       "  <tbody>\n",
       "    <tr>\n",
       "      <th>0</th>\n",
       "      <td>1606103</td>\n",
       "      <td>[0.20666109674671682, 0.3183697976908881, 0.36...</td>\n",
       "      <td>0.439557</td>\n",
       "    </tr>\n",
       "    <tr>\n",
       "      <th>1</th>\n",
       "      <td>1607205</td>\n",
       "      <td>[0.21224653179392539, 0.2736863173132196, 0.32...</td>\n",
       "      <td>0.452469</td>\n",
       "    </tr>\n",
       "    <tr>\n",
       "      <th>2</th>\n",
       "      <td>1607221</td>\n",
       "      <td>[0.3016134925492624, 0.7484482963259474, 0.781...</td>\n",
       "      <td>0.533217</td>\n",
       "    </tr>\n",
       "    <tr>\n",
       "      <th>3</th>\n",
       "      <td>1607231</td>\n",
       "      <td>[0.4635911089183107, 0.7987172117508244, 0.491...</td>\n",
       "      <td>0.583101</td>\n",
       "    </tr>\n",
       "    <tr>\n",
       "      <th>4</th>\n",
       "      <td>1607262</td>\n",
       "      <td>[1.0053783084975412, 0.7484482963259474, 0.223...</td>\n",
       "      <td>0.838296</td>\n",
       "    </tr>\n",
       "  </tbody>\n",
       "</table>\n",
       "</div>"
      ],
      "text/plain": [
       "  Sample ID                                     TeloFISH telos  TeloFISH Means\n",
       "0   1606103  [0.20666109674671682, 0.3183697976908881, 0.36...        0.439557\n",
       "1   1607205  [0.21224653179392539, 0.2736863173132196, 0.32...        0.452469\n",
       "2   1607221  [0.3016134925492624, 0.7484482963259474, 0.781...        0.533217\n",
       "3   1607231  [0.4635911089183107, 0.7987172117508244, 0.491...        0.583101\n",
       "4   1607262  [1.0053783084975412, 0.7484482963259474, 0.223...        0.838296"
      ]
     },
     "execution_count": 845,
     "metadata": {},
     "output_type": "execute_result"
    }
   ],
   "source": [
    "boar_teloFISH_df.head()"
   ]
  },
  {
   "cell_type": "code",
   "execution_count": 372,
   "metadata": {},
   "outputs": [
    {
     "name": "stdout",
     "output_type": "stream",
     "text": [
      "(18, 5)\n"
     ]
    },
    {
     "data": {
      "text/html": [
       "<div>\n",
       "<style scoped>\n",
       "    .dataframe tbody tr th:only-of-type {\n",
       "        vertical-align: middle;\n",
       "    }\n",
       "\n",
       "    .dataframe tbody tr th {\n",
       "        vertical-align: top;\n",
       "    }\n",
       "\n",
       "    .dataframe thead th {\n",
       "        text-align: right;\n",
       "    }\n",
       "</style>\n",
       "<table border=\"1\" class=\"dataframe\">\n",
       "  <thead>\n",
       "    <tr style=\"text-align: right;\">\n",
       "      <th></th>\n",
       "      <th>TeloFISH Means</th>\n",
       "      <th>Cortisol (pg/mg)</th>\n",
       "    </tr>\n",
       "  </thead>\n",
       "  <tbody>\n",
       "    <tr>\n",
       "      <th>TeloFISH Means</th>\n",
       "      <td>1.000000</td>\n",
       "      <td>0.622718</td>\n",
       "    </tr>\n",
       "    <tr>\n",
       "      <th>Cortisol (pg/mg)</th>\n",
       "      <td>0.622718</td>\n",
       "      <td>1.000000</td>\n",
       "    </tr>\n",
       "  </tbody>\n",
       "</table>\n",
       "</div>"
      ],
      "text/plain": [
       "                  TeloFISH Means  Cortisol (pg/mg)\n",
       "TeloFISH Means          1.000000          0.622718\n",
       "Cortisol (pg/mg)        0.622718          1.000000"
      ]
     },
     "execution_count": 372,
     "metadata": {},
     "output_type": "execute_result"
    }
   ],
   "source": [
    "### MERGING KELLY TELOFISH DATA W/ CORTISOL DATA\n",
    "kelly_teloF_cort = boar_teloFISH_df.merge(cortisol_df_samples, on=['Sample ID'])\n",
    "\n",
    "# !nice! have some hits\n",
    "print(kelly_teloF_cort.shape)\n",
    "kelly_teloF_cort.corr()"
   ]
  },
  {
   "cell_type": "code",
   "execution_count": 874,
   "metadata": {},
   "outputs": [
    {
     "data": {
      "text/plain": [
       "<seaborn.axisgrid.FacetGrid at 0x1656f80b8>"
      ]
     },
     "execution_count": 874,
     "metadata": {},
     "output_type": "execute_result"
    },
    {
     "data": {
      "image/png": "[encoded data removed]",
      "text/plain": [
       "<Figure size 360x360 with 1 Axes>"
      ]
     },
     "metadata": {},
     "output_type": "display_data"
    }
   ],
   "source": [
    "sns.lmplot(y='TeloFISH Means', x='Cortisol (pg/mg)', data=kelly_teloF_cort)"
   ]
  },
  {
   "cell_type": "code",
   "execution_count": 898,
   "metadata": {},
   "outputs": [
    {
     "data": {
      "text/plain": [
       "<seaborn.axisgrid.FacetGrid at 0x1629f9400>"
      ]
     },
     "execution_count": 898,
     "metadata": {},
     "output_type": "execute_result"
    },
    {
     "data": {
      "image/png": "[encoded data removed]",
      "text/plain": [
       "<Figure size 360x360 with 1 Axes>"
      ]
     },
     "metadata": {},
     "output_type": "display_data"
    }
   ],
   "source": [
    "sns.lmplot(y='Normalized T/A Average (Average Telomere Length)', x='Cortisol (pg/mg)', data=aryn_teloPCR_cort_rad)"
   ]
  },
  {
   "cell_type": "code",
   "execution_count": 879,
   "metadata": {},
   "outputs": [
    {
     "data": {
      "text/html": [
       "<div>\n",
       "<style scoped>\n",
       "    .dataframe tbody tr th:only-of-type {\n",
       "        vertical-align: middle;\n",
       "    }\n",
       "\n",
       "    .dataframe tbody tr th {\n",
       "        vertical-align: top;\n",
       "    }\n",
       "\n",
       "    .dataframe thead th {\n",
       "        text-align: right;\n",
       "    }\n",
       "</style>\n",
       "<table border=\"1\" class=\"dataframe\">\n",
       "  <thead>\n",
       "    <tr style=\"text-align: right;\">\n",
       "      <th></th>\n",
       "      <th>Exposure Status</th>\n",
       "      <th>Sample ID</th>\n",
       "      <th>Sex</th>\n",
       "      <th>Age</th>\n",
       "      <th>Age Class</th>\n",
       "      <th>Estimated Age (months)</th>\n",
       "      <th>External Dose (uSv)</th>\n",
       "      <th>Internal Dose (uSv)</th>\n",
       "      <th>qPCR ID</th>\n",
       "      <th>Concentration (ng/mcL)</th>\n",
       "      <th>260/280</th>\n",
       "      <th>Normalized T/A Average (Average Telomere Length)</th>\n",
       "      <th>Cortisol</th>\n",
       "      <th>Dicentrics (TC-FISH)</th>\n",
       "      <th>PH anomalies</th>\n",
       "      <th>Encoded Exposed</th>\n",
       "    </tr>\n",
       "  </thead>\n",
       "  <tbody>\n",
       "    <tr>\n",
       "      <th>0</th>\n",
       "      <td>Control</td>\n",
       "      <td>180526C3</td>\n",
       "      <td>M</td>\n",
       "      <td>NaN</td>\n",
       "      <td>Yearling</td>\n",
       "      <td>15.0</td>\n",
       "      <td>0.38</td>\n",
       "      <td>NaN</td>\n",
       "      <td>C1</td>\n",
       "      <td>14.5</td>\n",
       "      <td>1.90</td>\n",
       "      <td>0.910559</td>\n",
       "      <td>NaN</td>\n",
       "      <td>NaN</td>\n",
       "      <td>NaN</td>\n",
       "      <td>0</td>\n",
       "    </tr>\n",
       "    <tr>\n",
       "      <th>1</th>\n",
       "      <td>Control</td>\n",
       "      <td>180528C2</td>\n",
       "      <td>F</td>\n",
       "      <td>NaN</td>\n",
       "      <td>Juv</td>\n",
       "      <td>8.0</td>\n",
       "      <td>NaN</td>\n",
       "      <td>NaN</td>\n",
       "      <td>C2</td>\n",
       "      <td>17.3</td>\n",
       "      <td>1.73</td>\n",
       "      <td>0.985085</td>\n",
       "      <td>NaN</td>\n",
       "      <td>NaN</td>\n",
       "      <td>NaN</td>\n",
       "      <td>0</td>\n",
       "    </tr>\n",
       "    <tr>\n",
       "      <th>2</th>\n",
       "      <td>Control</td>\n",
       "      <td>180604C2</td>\n",
       "      <td>F</td>\n",
       "      <td>NaN</td>\n",
       "      <td>Yearling</td>\n",
       "      <td>18.0</td>\n",
       "      <td>0.46</td>\n",
       "      <td>NaN</td>\n",
       "      <td>C3</td>\n",
       "      <td>15.8</td>\n",
       "      <td>1.90</td>\n",
       "      <td>1.117980</td>\n",
       "      <td>NaN</td>\n",
       "      <td>NaN</td>\n",
       "      <td>NaN</td>\n",
       "      <td>0</td>\n",
       "    </tr>\n",
       "    <tr>\n",
       "      <th>3</th>\n",
       "      <td>Control</td>\n",
       "      <td>180612C1</td>\n",
       "      <td>M</td>\n",
       "      <td>NaN</td>\n",
       "      <td>Yearling</td>\n",
       "      <td>15.0</td>\n",
       "      <td>0.27</td>\n",
       "      <td>NaN</td>\n",
       "      <td>C4</td>\n",
       "      <td>13.1</td>\n",
       "      <td>1.60</td>\n",
       "      <td>1.260040</td>\n",
       "      <td>NaN</td>\n",
       "      <td>NaN</td>\n",
       "      <td>NaN</td>\n",
       "      <td>0</td>\n",
       "    </tr>\n",
       "    <tr>\n",
       "      <th>4</th>\n",
       "      <td>Control</td>\n",
       "      <td>180627C1</td>\n",
       "      <td>M</td>\n",
       "      <td>NaN</td>\n",
       "      <td>Juv+</td>\n",
       "      <td>10.0</td>\n",
       "      <td>0.32</td>\n",
       "      <td>NaN</td>\n",
       "      <td>C5</td>\n",
       "      <td>6.2</td>\n",
       "      <td>1.70</td>\n",
       "      <td>1.476052</td>\n",
       "      <td>NaN</td>\n",
       "      <td>NaN</td>\n",
       "      <td>NaN</td>\n",
       "      <td>0</td>\n",
       "    </tr>\n",
       "  </tbody>\n",
       "</table>\n",
       "</div>"
      ],
      "text/plain": [
       "  Exposure Status Sample ID Sex  Age Age Class  Estimated Age (months)  \\\n",
       "0         Control  180526C3   M  NaN  Yearling                    15.0   \n",
       "1         Control  180528C2   F  NaN       Juv                     8.0   \n",
       "2         Control  180604C2   F  NaN  Yearling                    18.0   \n",
       "3         Control  180612C1   M  NaN  Yearling                    15.0   \n",
       "4         Control  180627C1   M  NaN    Juv+                      10.0   \n",
       "\n",
       "   External Dose (uSv)  Internal Dose (uSv) qPCR ID  Concentration (ng/mcL)  \\\n",
       "0                 0.38                  NaN      C1                    14.5   \n",
       "1                  NaN                  NaN      C2                    17.3   \n",
       "2                 0.46                  NaN      C3                    15.8   \n",
       "3                 0.27                  NaN      C4                    13.1   \n",
       "4                 0.32                  NaN      C5                     6.2   \n",
       "\n",
       "   260/280  Normalized T/A Average (Average Telomere Length)  Cortisol  \\\n",
       "0     1.90                                          0.910559       NaN   \n",
       "1     1.73                                          0.985085       NaN   \n",
       "2     1.90                                          1.117980       NaN   \n",
       "3     1.60                                          1.260040       NaN   \n",
       "4     1.70                                          1.476052       NaN   \n",
       "\n",
       "   Dicentrics (TC-FISH)  PH anomalies  Encoded Exposed  \n",
       "0                   NaN           NaN                0  \n",
       "1                   NaN           NaN                0  \n",
       "2                   NaN           NaN                0  \n",
       "3                   NaN           NaN                0  \n",
       "4                   NaN           NaN                0  "
      ]
     },
     "execution_count": 879,
     "metadata": {},
     "output_type": "execute_result"
    }
   ],
   "source": [
    "df.head()"
   ]
  },
  {
   "cell_type": "code",
   "execution_count": 902,
   "metadata": {},
   "outputs": [
    {
     "data": {
      "text/plain": [
       "<seaborn.axisgrid.FacetGrid at 0x1625eb358>"
      ]
     },
     "execution_count": 902,
     "metadata": {},
     "output_type": "execute_result"
    },
    {
     "data": {
      "image/png": "[encoded data removed]",
      "text/plain": [
       "<Figure size 413.125x360 with 1 Axes>"
      ]
     },
     "metadata": {},
     "output_type": "display_data"
    }
   ],
   "source": [
    "sns.relplot(x='External Dose (uSv)', y='Normalized T/A Average (Average Telomere Length)', hue='Sex', data=df)"
   ]
  },
  {
   "cell_type": "code",
   "execution_count": 883,
   "metadata": {},
   "outputs": [],
   "source": [
    "### ACQUIRING KELLY DICENTRIC DATA\n",
    "\n",
    "kelly_dicentrics = pd.read_excel('Fukushima Dicentrics.xlsx')\n",
    "kelly_dicentrics.rename(columns={'Pig ID': 'Sample ID'}, inplace=True)\n",
    "   \n",
    "kelly_dicentrics['Sample ID'] = remove_dashes_space_sampleIDs(kelly_dicentrics)\n",
    "kelly_dicentrics['Dicentrics per 100 Cells'] = kelly_dicentrics['Dicentrics']/kelly_dicentrics['Total Scored']\n",
    "kelly_dicentrics.drop(['Dicentric Images', 'Notes', 'Dicentrics', 'Total Scored'], axis=1, inplace=True)\n",
    "\n"
   ]
  },
  {
   "cell_type": "code",
   "execution_count": 884,
   "metadata": {},
   "outputs": [
    {
     "name": "stdout",
     "output_type": "stream",
     "text": [
      "(41, 2)\n"
     ]
    },
    {
     "data": {
      "text/html": [
       "<div>\n",
       "<style scoped>\n",
       "    .dataframe tbody tr th:only-of-type {\n",
       "        vertical-align: middle;\n",
       "    }\n",
       "\n",
       "    .dataframe tbody tr th {\n",
       "        vertical-align: top;\n",
       "    }\n",
       "\n",
       "    .dataframe thead th {\n",
       "        text-align: right;\n",
       "    }\n",
       "</style>\n",
       "<table border=\"1\" class=\"dataframe\">\n",
       "  <thead>\n",
       "    <tr style=\"text-align: right;\">\n",
       "      <th></th>\n",
       "      <th>Sample ID</th>\n",
       "      <th>Dicentrics per 100 Cells</th>\n",
       "    </tr>\n",
       "  </thead>\n",
       "  <tbody>\n",
       "    <tr>\n",
       "      <th>0</th>\n",
       "      <td>1607261</td>\n",
       "      <td>0.01</td>\n",
       "    </tr>\n",
       "    <tr>\n",
       "      <th>1</th>\n",
       "      <td>1608012</td>\n",
       "      <td>0.03</td>\n",
       "    </tr>\n",
       "    <tr>\n",
       "      <th>2</th>\n",
       "      <td>1606101</td>\n",
       "      <td>0.04</td>\n",
       "    </tr>\n",
       "  </tbody>\n",
       "</table>\n",
       "</div>"
      ],
      "text/plain": [
       "  Sample ID  Dicentrics per 100 Cells\n",
       "0   1607261                      0.01\n",
       "1   1608012                      0.03\n",
       "2   1606101                      0.04"
      ]
     },
     "execution_count": 884,
     "metadata": {},
     "output_type": "execute_result"
    }
   ],
   "source": [
    "print(kelly_dicentrics.shape)\n",
    "kelly_dicentrics.head(3)"
   ]
  },
  {
   "cell_type": "code",
   "execution_count": 885,
   "metadata": {},
   "outputs": [
    {
     "name": "stdout",
     "output_type": "stream",
     "text": [
      "(40, 4)\n"
     ]
    },
    {
     "data": {
      "text/html": [
       "<div>\n",
       "<style scoped>\n",
       "    .dataframe tbody tr th:only-of-type {\n",
       "        vertical-align: middle;\n",
       "    }\n",
       "\n",
       "    .dataframe tbody tr th {\n",
       "        vertical-align: top;\n",
       "    }\n",
       "\n",
       "    .dataframe thead th {\n",
       "        text-align: right;\n",
       "    }\n",
       "</style>\n",
       "<table border=\"1\" class=\"dataframe\">\n",
       "  <thead>\n",
       "    <tr style=\"text-align: right;\">\n",
       "      <th></th>\n",
       "      <th>Sample ID</th>\n",
       "      <th>TeloFISH telos</th>\n",
       "      <th>TeloFISH Means</th>\n",
       "      <th>Dicentrics per 100 Cells</th>\n",
       "    </tr>\n",
       "  </thead>\n",
       "  <tbody>\n",
       "    <tr>\n",
       "      <th>0</th>\n",
       "      <td>1606103</td>\n",
       "      <td>[0.20666109674671682, 0.3183697976908881, 0.36...</td>\n",
       "      <td>0.439557</td>\n",
       "      <td>0.00</td>\n",
       "    </tr>\n",
       "    <tr>\n",
       "      <th>1</th>\n",
       "      <td>1607205</td>\n",
       "      <td>[0.21224653179392539, 0.2736863173132196, 0.32...</td>\n",
       "      <td>0.452469</td>\n",
       "      <td>0.00</td>\n",
       "    </tr>\n",
       "    <tr>\n",
       "      <th>2</th>\n",
       "      <td>1607221</td>\n",
       "      <td>[0.3016134925492624, 0.7484482963259474, 0.781...</td>\n",
       "      <td>0.533217</td>\n",
       "      <td>0.01</td>\n",
       "    </tr>\n",
       "    <tr>\n",
       "      <th>3</th>\n",
       "      <td>1607231</td>\n",
       "      <td>[0.4635911089183107, 0.7987172117508244, 0.491...</td>\n",
       "      <td>0.583101</td>\n",
       "      <td>0.01</td>\n",
       "    </tr>\n",
       "    <tr>\n",
       "      <th>4</th>\n",
       "      <td>1607262</td>\n",
       "      <td>[1.0053783084975412, 0.7484482963259474, 0.223...</td>\n",
       "      <td>0.838296</td>\n",
       "      <td>0.01</td>\n",
       "    </tr>\n",
       "  </tbody>\n",
       "</table>\n",
       "</div>"
      ],
      "text/plain": [
       "  Sample ID                                     TeloFISH telos  \\\n",
       "0   1606103  [0.20666109674671682, 0.3183697976908881, 0.36...   \n",
       "1   1607205  [0.21224653179392539, 0.2736863173132196, 0.32...   \n",
       "2   1607221  [0.3016134925492624, 0.7484482963259474, 0.781...   \n",
       "3   1607231  [0.4635911089183107, 0.7987172117508244, 0.491...   \n",
       "4   1607262  [1.0053783084975412, 0.7484482963259474, 0.223...   \n",
       "\n",
       "   TeloFISH Means  Dicentrics per 100 Cells  \n",
       "0        0.439557                      0.00  \n",
       "1        0.452469                      0.00  \n",
       "2        0.533217                      0.01  \n",
       "3        0.583101                      0.01  \n",
       "4        0.838296                      0.01  "
      ]
     },
     "execution_count": 885,
     "metadata": {},
     "output_type": "execute_result"
    }
   ],
   "source": [
    "### MERGE KELLY TELOFISH DATA W/ DICENTRICS\n",
    "\n",
    "kelly_teloF_dicent = boar_teloFISH_df.merge(kelly_dicentrics[['Sample ID', \n",
    "                                                              'Dicentrics per 100 Cells']], on=['Sample ID'])\n",
    "print(kelly_teloF_dicent.shape)\n",
    "kelly_teloF_dicent.head()"
   ]
  },
  {
   "cell_type": "code",
   "execution_count": 896,
   "metadata": {},
   "outputs": [
    {
     "data": {
      "text/plain": [
       "<seaborn.axisgrid.FacetGrid at 0x162cb5780>"
      ]
     },
     "execution_count": 896,
     "metadata": {},
     "output_type": "execute_result"
    },
    {
     "data": {
      "image/png": "[encoded data removed]",
      "text/plain": [
       "<Figure size 360x360 with 1 Axes>"
      ]
     },
     "metadata": {},
     "output_type": "display_data"
    }
   ],
   "source": [
    "sns.relplot(x='Dicentrics per 100 Cells', y='TeloFISH Means', data=kelly_teloF_dicent, linewidth=1)"
   ]
  },
  {
   "cell_type": "markdown",
   "metadata": {},
   "source": [
    "### MERGE KELLY DICENTRICS W/ MERGED TELOFISH + CORTISOL DATA\n",
    "\n",
    "kelly_teloF_dicent_cort = kelly_dicentrics.merge(kelly_teloF_cort, on=['Sample ID'])\n",
    "kelly_teloF_dicent_cort.drop(['Sample Number (electronic sheet)'], axis=1, inplace=True)"
   ]
  },
  {
   "cell_type": "code",
   "execution_count": 871,
   "metadata": {},
   "outputs": [
    {
     "name": "stdout",
     "output_type": "stream",
     "text": [
      "(18, 5)\n"
     ]
    },
    {
     "data": {
      "text/html": [
       "<div>\n",
       "<style scoped>\n",
       "    .dataframe tbody tr th:only-of-type {\n",
       "        vertical-align: middle;\n",
       "    }\n",
       "\n",
       "    .dataframe tbody tr th {\n",
       "        vertical-align: top;\n",
       "    }\n",
       "\n",
       "    .dataframe thead th {\n",
       "        text-align: right;\n",
       "    }\n",
       "</style>\n",
       "<table border=\"1\" class=\"dataframe\">\n",
       "  <thead>\n",
       "    <tr style=\"text-align: right;\">\n",
       "      <th></th>\n",
       "      <th>Sample ID</th>\n",
       "      <th>Dicentrics per 100 Cells</th>\n",
       "      <th>TeloFISH telos</th>\n",
       "      <th>TeloFISH Means</th>\n",
       "      <th>Cortisol (pg/mg)</th>\n",
       "    </tr>\n",
       "  </thead>\n",
       "  <tbody>\n",
       "    <tr>\n",
       "      <th>0</th>\n",
       "      <td>1607261</td>\n",
       "      <td>0.01</td>\n",
       "      <td>[1.659096068906892, 0.21927957248291038, 0.275...</td>\n",
       "      <td>0.568116</td>\n",
       "      <td>6.736842</td>\n",
       "    </tr>\n",
       "    <tr>\n",
       "      <th>1</th>\n",
       "      <td>161216O247</td>\n",
       "      <td>0.01</td>\n",
       "      <td>[1.0954844865022864, 0.4895543943804511, 0.173...</td>\n",
       "      <td>0.452690</td>\n",
       "      <td>5.360000</td>\n",
       "    </tr>\n",
       "    <tr>\n",
       "      <th>2</th>\n",
       "      <td>161216O247</td>\n",
       "      <td>0.01</td>\n",
       "      <td>[1.0954844865022864, 0.4895543943804511, 0.173...</td>\n",
       "      <td>0.452690</td>\n",
       "      <td>7.394297</td>\n",
       "    </tr>\n",
       "  </tbody>\n",
       "</table>\n",
       "</div>"
      ],
      "text/plain": [
       "    Sample ID  Dicentrics per 100 Cells  \\\n",
       "0     1607261                      0.01   \n",
       "1  161216O247                      0.01   \n",
       "2  161216O247                      0.01   \n",
       "\n",
       "                                      TeloFISH telos  TeloFISH Means  \\\n",
       "0  [1.659096068906892, 0.21927957248291038, 0.275...        0.568116   \n",
       "1  [1.0954844865022864, 0.4895543943804511, 0.173...        0.452690   \n",
       "2  [1.0954844865022864, 0.4895543943804511, 0.173...        0.452690   \n",
       "\n",
       "   Cortisol (pg/mg)  \n",
       "0          6.736842  \n",
       "1          5.360000  \n",
       "2          7.394297  "
      ]
     },
     "execution_count": 871,
     "metadata": {},
     "output_type": "execute_result"
    }
   ],
   "source": [
    "print(kelly_teloF_dicent_cort.shape)\n",
    "kelly_teloF_dicent_cort.head(3)"
   ]
  },
  {
   "cell_type": "code",
   "execution_count": 893,
   "metadata": {},
   "outputs": [
    {
     "data": {
      "text/html": [
       "<div>\n",
       "<style scoped>\n",
       "    .dataframe tbody tr th:only-of-type {\n",
       "        vertical-align: middle;\n",
       "    }\n",
       "\n",
       "    .dataframe tbody tr th {\n",
       "        vertical-align: top;\n",
       "    }\n",
       "\n",
       "    .dataframe thead th {\n",
       "        text-align: right;\n",
       "    }\n",
       "</style>\n",
       "<table border=\"1\" class=\"dataframe\">\n",
       "  <thead>\n",
       "    <tr style=\"text-align: right;\">\n",
       "      <th></th>\n",
       "      <th>Dicentrics per 100 Cells</th>\n",
       "      <th>TeloFISH Means</th>\n",
       "      <th>Cortisol (pg/mg)</th>\n",
       "    </tr>\n",
       "  </thead>\n",
       "  <tbody>\n",
       "    <tr>\n",
       "      <th>Dicentrics per 100 Cells</th>\n",
       "      <td>1.000000</td>\n",
       "      <td>-0.344701</td>\n",
       "      <td>-0.054393</td>\n",
       "    </tr>\n",
       "    <tr>\n",
       "      <th>TeloFISH Means</th>\n",
       "      <td>-0.344701</td>\n",
       "      <td>1.000000</td>\n",
       "      <td>0.622718</td>\n",
       "    </tr>\n",
       "    <tr>\n",
       "      <th>Cortisol (pg/mg)</th>\n",
       "      <td>-0.054393</td>\n",
       "      <td>0.622718</td>\n",
       "      <td>1.000000</td>\n",
       "    </tr>\n",
       "  </tbody>\n",
       "</table>\n",
       "</div>"
      ],
      "text/plain": [
       "                          Dicentrics per 100 Cells  TeloFISH Means  \\\n",
       "Dicentrics per 100 Cells                  1.000000       -0.344701   \n",
       "TeloFISH Means                           -0.344701        1.000000   \n",
       "Cortisol (pg/mg)                         -0.054393        0.622718   \n",
       "\n",
       "                          Cortisol (pg/mg)  \n",
       "Dicentrics per 100 Cells         -0.054393  \n",
       "TeloFISH Means                    0.622718  \n",
       "Cortisol (pg/mg)                  1.000000  "
      ]
     },
     "execution_count": 893,
     "metadata": {},
     "output_type": "execute_result"
    }
   ],
   "source": [
    "kelly_teloF_dicent_cort.corr()"
   ]
  },
  {
   "cell_type": "code",
   "execution_count": 498,
   "metadata": {},
   "outputs": [],
   "source": [
    "### ACQUIRING KELLY BOAR AGE, SEX DATA\n",
    "kelly_age_sex = pd.read_excel('Fukushima Boar Data.xlsx', dtype={'Age (weeks)':str})\n",
    "kelly_age_sex.rename(columns={'ID': 'Sample ID'}, inplace=True)\n",
    "cols_keep = ['Sample ID', 'Sex', 'Age (weeks)']\n",
    "cols_drop = [col for col in kelly_age_sex.columns if col not in cols_keep]\n",
    "\n",
    "kelly_age_sex.drop(cols_drop, axis=1, inplace=True)\n",
    "kelly_age_sex.dropna(inplace=True)\n",
    "kelly_age_sex['Sample ID'] = remove_dashes_space_sampleIDs(kelly_age_sex)"
   ]
  },
  {
   "cell_type": "code",
   "execution_count": 503,
   "metadata": {},
   "outputs": [],
   "source": [
    "# Need to change estimated boar age in this df from type str to actual numbers\n",
    "# to accomplish this, we must remove the dashes, compute an average of the estimated age,\n",
    "# and change the estimation units of weeks to months, then we can merge this info into prior dfs\n",
    "\n",
    "age_row = []\n",
    "for row in kelly_age_sex['Age (weeks)']:\n",
    "    if '-' in row:\n",
    "        row = row.replace('-', ' ')\n",
    "        age_row.append(row)\n",
    "    else:\n",
    "        age_row.append(row)\n",
    "        \n",
    "kelly_age_sex['Age (weeks)'] = age_row"
   ]
  },
  {
   "cell_type": "code",
   "execution_count": 504,
   "metadata": {},
   "outputs": [],
   "source": [
    "# Estimated Age (months)\n",
    "age_est_fixed = []\n",
    "for row in kelly_age_sex['Age (weeks)']:\n",
    "    if len(row) == 1 or len(row) == 2:\n",
    "        row = float(row)\n",
    "        age_est_fixed.append(row)\n",
    "    elif len(row) == 3 and ' ' in row:\n",
    "        row = (float(row[2]) + float(row[0])) / 2\n",
    "        age_est_fixed.append(row)\n",
    "    elif len(row) == 5:\n",
    "        row = (float(row[3:5]) + float(row[0:2])) / 2\n",
    "        age_est_fixed.append(row)\n",
    "    elif len(row) == 3 and ' ' not in row:\n",
    "        row = float(row)\n",
    "        age_est_fixed.append(row)\n",
    "    else:\n",
    "        print(row, 'error')\n",
    "        \n",
    "kelly_age_sex['Age (weeks)'] = age_est_fixed\n",
    "kelly_age_sex['Estimated Age (months)'] = kelly_age_sex['Age (weeks)'] / 4\n",
    "kelly_age_sex.drop(['Age (weeks)'], axis=1, inplace=True)"
   ]
  },
  {
   "cell_type": "code",
   "execution_count": 508,
   "metadata": {},
   "outputs": [
    {
     "data": {
      "text/plain": [
       "(37, 3)"
      ]
     },
     "execution_count": 508,
     "metadata": {},
     "output_type": "execute_result"
    }
   ],
   "source": [
    "kelly_age_sex.head()\n",
    "kelly_age_sex.shape"
   ]
  },
  {
   "cell_type": "code",
   "execution_count": 877,
   "metadata": {},
   "outputs": [
    {
     "name": "stdout",
     "output_type": "stream",
     "text": [
      "Age/Sex data shape (37, 3) \n",
      "kelly teloF data shape (41, 3)\n"
     ]
    }
   ],
   "source": [
    "### let's merge kelly's boar teloFISH data with age/sex data.. \n",
    "print(f'Age/Sex data shape {kelly_age_sex.shape}', \n",
    "      f'\\nkelly teloF data shape {boar_teloFISH_df.shape}')"
   ]
  },
  {
   "cell_type": "code",
   "execution_count": 526,
   "metadata": {},
   "outputs": [
    {
     "data": {
      "text/html": [
       "<div>\n",
       "<style scoped>\n",
       "    .dataframe tbody tr th:only-of-type {\n",
       "        vertical-align: middle;\n",
       "    }\n",
       "\n",
       "    .dataframe tbody tr th {\n",
       "        vertical-align: top;\n",
       "    }\n",
       "\n",
       "    .dataframe thead th {\n",
       "        text-align: right;\n",
       "    }\n",
       "</style>\n",
       "<table border=\"1\" class=\"dataframe\">\n",
       "  <thead>\n",
       "    <tr style=\"text-align: right;\">\n",
       "      <th></th>\n",
       "      <th>Sample ID</th>\n",
       "      <th>TeloFISH telos</th>\n",
       "      <th>TeloFISH Means</th>\n",
       "      <th>Sex</th>\n",
       "      <th>Estimated Age (months)</th>\n",
       "    </tr>\n",
       "  </thead>\n",
       "  <tbody>\n",
       "    <tr>\n",
       "      <th>0</th>\n",
       "      <td>1606103</td>\n",
       "      <td>[1.3905032808146995, 1.0719078561762536, 1.045...</td>\n",
       "      <td>0.448035</td>\n",
       "      <td>Male</td>\n",
       "      <td>7.250</td>\n",
       "    </tr>\n",
       "    <tr>\n",
       "      <th>1</th>\n",
       "      <td>1607205</td>\n",
       "      <td>[1.6697542214627055, 0.2069525068855143, 0.392...</td>\n",
       "      <td>0.458065</td>\n",
       "      <td>Male</td>\n",
       "      <td>1.875</td>\n",
       "    </tr>\n",
       "    <tr>\n",
       "      <th>2</th>\n",
       "      <td>1607221</td>\n",
       "      <td>[3.4492537653844386, 0.6261639951920689, 0.137...</td>\n",
       "      <td>0.537053</td>\n",
       "      <td>Male</td>\n",
       "      <td>1.875</td>\n",
       "    </tr>\n",
       "    <tr>\n",
       "      <th>3</th>\n",
       "      <td>1607262</td>\n",
       "      <td>[2.40373415803743, 0.8543424002196872, 0.54126...</td>\n",
       "      <td>0.873007</td>\n",
       "      <td>Male</td>\n",
       "      <td>21.750</td>\n",
       "    </tr>\n",
       "    <tr>\n",
       "      <th>4</th>\n",
       "      <td>1607264</td>\n",
       "      <td>[2.215029277361336, 1.5248418139052986, 1.0592...</td>\n",
       "      <td>0.769474</td>\n",
       "      <td>Female</td>\n",
       "      <td>20.000</td>\n",
       "    </tr>\n",
       "    <tr>\n",
       "      <th>5</th>\n",
       "      <td>1606102</td>\n",
       "      <td>[1.5196034801732479, 0.9966576518203156, 1.066...</td>\n",
       "      <td>1.149695</td>\n",
       "      <td>Female</td>\n",
       "      <td>6.500</td>\n",
       "    </tr>\n",
       "    <tr>\n",
       "      <th>6</th>\n",
       "      <td>1607263</td>\n",
       "      <td>[0.2559127945314739, 1.034505410750201, 1.0975...</td>\n",
       "      <td>1.441147</td>\n",
       "      <td>Male</td>\n",
       "      <td>1.875</td>\n",
       "    </tr>\n",
       "    <tr>\n",
       "      <th>7</th>\n",
       "      <td>1607261</td>\n",
       "      <td>[1.659096068906892, 0.21927957248291038, 0.275...</td>\n",
       "      <td>0.568116</td>\n",
       "      <td>Female</td>\n",
       "      <td>21.750</td>\n",
       "    </tr>\n",
       "    <tr>\n",
       "      <th>8</th>\n",
       "      <td>1606101</td>\n",
       "      <td>[1.0575499873819831, 0.2804738717804668, 0.423...</td>\n",
       "      <td>0.405510</td>\n",
       "      <td>Male</td>\n",
       "      <td>9.000</td>\n",
       "    </tr>\n",
       "  </tbody>\n",
       "</table>\n",
       "</div>"
      ],
      "text/plain": [
       "  Sample ID                                     TeloFISH telos  \\\n",
       "0   1606103  [1.3905032808146995, 1.0719078561762536, 1.045...   \n",
       "1   1607205  [1.6697542214627055, 0.2069525068855143, 0.392...   \n",
       "2   1607221  [3.4492537653844386, 0.6261639951920689, 0.137...   \n",
       "3   1607262  [2.40373415803743, 0.8543424002196872, 0.54126...   \n",
       "4   1607264  [2.215029277361336, 1.5248418139052986, 1.0592...   \n",
       "5   1606102  [1.5196034801732479, 0.9966576518203156, 1.066...   \n",
       "6   1607263  [0.2559127945314739, 1.034505410750201, 1.0975...   \n",
       "7   1607261  [1.659096068906892, 0.21927957248291038, 0.275...   \n",
       "8   1606101  [1.0575499873819831, 0.2804738717804668, 0.423...   \n",
       "\n",
       "   TeloFISH Means     Sex  Estimated Age (months)  \n",
       "0        0.448035    Male                   7.250  \n",
       "1        0.458065    Male                   1.875  \n",
       "2        0.537053    Male                   1.875  \n",
       "3        0.873007    Male                  21.750  \n",
       "4        0.769474  Female                  20.000  \n",
       "5        1.149695  Female                   6.500  \n",
       "6        1.441147    Male                   1.875  \n",
       "7        0.568116  Female                  21.750  \n",
       "8        0.405510    Male                   9.000  "
      ]
     },
     "execution_count": 526,
     "metadata": {},
     "output_type": "execute_result"
    }
   ],
   "source": [
    "boar_teloFISH_df_age_sex = boar_teloFISH_df.merge(kelly_age_sex, on=['Sample ID'])\n",
    "boar_teloFISH_df_age_sex\n",
    "\n",
    "# similarity_score(boar_teloFISH_df, kelly_age_sex)\n",
    "# not much age / sex data for kelly's boar which have teloFISH data "
   ]
  },
  {
   "cell_type": "code",
   "execution_count": 894,
   "metadata": {},
   "outputs": [
    {
     "data": {
      "text/plain": [
       "(9, 5)"
      ]
     },
     "execution_count": 894,
     "metadata": {},
     "output_type": "execute_result"
    }
   ],
   "source": [
    "### Hmmm.... since not many shared sample IDs between teloF & age/sex data, may have to shelve this for now \n",
    "boar_teloFISH_df_age_sex.shape"
   ]
  },
  {
   "cell_type": "code",
   "execution_count": null,
   "metadata": {},
   "outputs": [],
   "source": []
  },
  {
   "cell_type": "code",
   "execution_count": null,
   "metadata": {},
   "outputs": [],
   "source": []
  },
  {
   "cell_type": "code",
   "execution_count": null,
   "metadata": {},
   "outputs": [],
   "source": []
  },
  {
   "cell_type": "code",
   "execution_count": null,
   "metadata": {},
   "outputs": [],
   "source": [
    "### MISC. CODE SHELVED FOR NOW"
   ]
  },
  {
   "cell_type": "code",
   "execution_count": 198,
   "metadata": {},
   "outputs": [
    {
     "data": {
      "text/plain": [
       "[(0, 2)]"
      ]
     },
     "execution_count": 198,
     "metadata": {},
     "output_type": "execute_result"
    },
    {
     "data": {
      "image/png": "[encoded data removed]",
      "text/plain": [
       "<Figure size 1080x432 with 1 Axes>"
      ]
     },
     "metadata": {},
     "output_type": "display_data"
    }
   ],
   "source": [
    "# sns.distplot(boar_teloFISH_df['TeloFISH'][0], bins=85, hist=True)\n",
    "\n",
    "# sns.set_style('darkgrid')\n",
    "# fig = plt.figure(figsize=(15,6)) # define plot area\n",
    "# g = sns.distplot(boar_teloFISH_df['TeloFISH telos'][4], bins=200, hist=True)\n",
    "# g.set(xlim=(0, 3))\n",
    "# g.set(ylim=(0, 2))"
   ]
  },
  {
   "cell_type": "code",
   "execution_count": null,
   "metadata": {},
   "outputs": [],
   "source": [
    "# sample_id_cleaned = []\n",
    "# for row in boar_teloFISH_df['Sample ID']:\n",
    "#     if '-' in row:\n",
    "#         row = row.replace('-', '').replace(' ', '')\n",
    "#         sample_id_cleaned.append(row)\n",
    "#     else:\n",
    "#         continue\n",
    "# # sample_id_cleaned\n",
    "# boar_teloFISH_df['Sample ID'] = sample_id_cleaned"
   ]
  },
  {
   "cell_type": "code",
   "execution_count": null,
   "metadata": {},
   "outputs": [],
   "source": [
    "### DEPRECATED LINEAR REGRESSION EXAMPLE... PREFER TO USE SEABORN FOR THIS\n",
    "\n",
    "# ext_dosage = aryn_teloPCR_cort_rad['External Dose (uSv)']\n",
    "# ext_dosage = ext_dosage.values.reshape(-1, 1)\n",
    "\n",
    "# cortisol = aryn_teloPCR_cort_rad['Cortisol (pg/mg)']\n",
    "# cortisol = cortisol.values.reshape(-1, 1)\n",
    "\n",
    "# linear_reg = linear_model.LinearRegression()\n",
    "# linear_reg.fit(ext_dosage, cortisol)\n",
    "\n",
    "# aryn_teloPCR_cort_rad.plot.scatter(x=['External Dose (uSv)'], y=['Cortisol (pg/mg)'])\n",
    "# # plt.scatter(ext_dosage, cortisol,  color='black')\n",
    "# plt.plot(ext_dosage, linear_reg.predict(ext_dosage), color='black', linewidth=1)\n",
    "# # plt.xticks(())\n",
    "# # plt.yticks(())\n",
    "# # plt.show()"
   ]
  },
  {
   "cell_type": "code",
   "execution_count": null,
   "metadata": {},
   "outputs": [],
   "source": [
    "### FINDING MISLABELED SAMPLES IN CORTISOL DATA \n",
    "\n",
    "#finding mislabeled samples\n",
    "def similar(a, b):\n",
    "    return SequenceMatcher(None, a, b).ratio()\n",
    "\n",
    "def similarity_score(df, df2):\n",
    "    score_dict = {}\n",
    "\n",
    "    for row in df['Sample ID']:\n",
    "        for row2 in df2['Sample ID']:\n",
    "            score = similar(row, row2)\n",
    "            score_dict[score] = [row, row2]\n",
    "    for score, samples in score_dict.items():\n",
    "        if score >= .5:\n",
    "            print(samples)\n",
    "            \n",
    "# similarity_score(df, cortisol_df_samples)"
   ]
  }
 ],
 "metadata": {
  "kernelspec": {
   "display_name": "Python 3",
   "language": "python",
   "name": "python3"
  },
  "language_info": {
   "codemirror_mode": {
    "name": "ipython",
    "version": 3
   },
   "file_extension": ".py",
   "mimetype": "text/x-python",
   "name": "python",
   "nbconvert_exporter": "python",
   "pygments_lexer": "ipython3",
   "version": "3.7.3"
  }
 },
 "nbformat": 4,
 "nbformat_minor": 2
}
