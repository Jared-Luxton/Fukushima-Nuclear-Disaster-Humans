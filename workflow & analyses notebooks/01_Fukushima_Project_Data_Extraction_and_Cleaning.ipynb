{
 "cells": [
  {
   "cell_type": "code",
   "execution_count": 2,
   "metadata": {},
   "outputs": [],
   "source": [
    "# for grabbing/handling data\n",
    "import numpy as np\n",
    "import pandas as pd\n",
    "import fukushima_telomere_methods as f_tm\n",
    "\n",
    "# incase needing to reload modules\n",
    "import importlib\n",
    "%load_ext autoreload\n",
    "%autoreload 2\n",
    "%reload_ext autoreload"
   ]
  },
  {
   "cell_type": "markdown",
   "metadata": {},
   "source": [
    "---\n",
    "&nbsp; \n",
    "\n",
    "The Fukushima Project seeks to determine whether regions contaminated by radiation from the Fukushima Daiichi Nuclear Disaster can be considered safe for human repopulation. Here, we use free-roaming >200 wild boar trapped from the contaminated regions as mammalian proxies for humans. On the boar we've collected >10 types of data from chemistry, physics (radiation), and molecular biology techniques to ascertain whether boar are negatively impacted by radiation in terms of various biometrics. We have data on snake as well.\n",
    "\n",
    "The data was generated over >4 years and exists as tabular data in various formats. Our first aim is to read in all of the data, then clean/reformat it to enable combination of the various datasets. We've focused on standardizing the format for boar sample identifications (Sample ID) to enable combination of the data.\n",
    "\n",
    "&nbsp; \n",
    "\n",
    "---"
   ]
  },
  {
   "cell_type": "markdown",
   "metadata": {
    "toc-hr-collapsed": true
   },
   "source": [
    "## Aryn's Data (qPCR)\n",
    "---"
   ]
  },
  {
   "cell_type": "markdown",
   "metadata": {},
   "source": [
    "### Reading Aryn's snake data to dataframe"
   ]
  },
  {
   "cell_type": "code",
   "execution_count": 3,
   "metadata": {},
   "outputs": [
    {
     "data": {
      "text/html": [
       "<div>\n",
       "<style scoped>\n",
       "    .dataframe tbody tr th:only-of-type {\n",
       "        vertical-align: middle;\n",
       "    }\n",
       "\n",
       "    .dataframe tbody tr th {\n",
       "        vertical-align: top;\n",
       "    }\n",
       "\n",
       "    .dataframe thead th {\n",
       "        text-align: right;\n",
       "    }\n",
       "</style>\n",
       "<table border=\"1\" class=\"dataframe\">\n",
       "  <thead>\n",
       "    <tr style=\"text-align: right;\">\n",
       "      <th></th>\n",
       "      <th>Sample ID</th>\n",
       "      <th>Concentration (ng/mcL)</th>\n",
       "      <th>260/280</th>\n",
       "      <th>Sex</th>\n",
       "      <th>External Dose (uSv)</th>\n",
       "      <th>Internal Dose (uSv)</th>\n",
       "      <th>Telomere Length</th>\n",
       "    </tr>\n",
       "  </thead>\n",
       "  <tbody>\n",
       "    <tr>\n",
       "      <th>0</th>\n",
       "      <td>CEC10</td>\n",
       "      <td>19.3</td>\n",
       "      <td>1.96</td>\n",
       "      <td>F</td>\n",
       "      <td>0.10</td>\n",
       "      <td>NaN</td>\n",
       "      <td>0.444298</td>\n",
       "    </tr>\n",
       "    <tr>\n",
       "      <th>1</th>\n",
       "      <td>CEC18</td>\n",
       "      <td>63.7</td>\n",
       "      <td>1.83</td>\n",
       "      <td>F</td>\n",
       "      <td>0.16</td>\n",
       "      <td>NaN</td>\n",
       "      <td>0.826190</td>\n",
       "    </tr>\n",
       "    <tr>\n",
       "      <th>2</th>\n",
       "      <td>CEC22</td>\n",
       "      <td>45.5</td>\n",
       "      <td>1.88</td>\n",
       "      <td>F</td>\n",
       "      <td>0.17</td>\n",
       "      <td>NaN</td>\n",
       "      <td>2.067214</td>\n",
       "    </tr>\n",
       "    <tr>\n",
       "      <th>3</th>\n",
       "      <td>CEC23</td>\n",
       "      <td>32.6</td>\n",
       "      <td>1.83</td>\n",
       "      <td>F</td>\n",
       "      <td>0.20</td>\n",
       "      <td>NaN</td>\n",
       "      <td>1.389182</td>\n",
       "    </tr>\n",
       "  </tbody>\n",
       "</table>\n",
       "</div>"
      ],
      "text/plain": [
       "  Sample ID  Concentration (ng/mcL)  260/280 Sex  External Dose (uSv)  \\\n",
       "0     CEC10                    19.3     1.96   F                 0.10   \n",
       "1     CEC18                    63.7     1.83   F                 0.16   \n",
       "2     CEC22                    45.5     1.88   F                 0.17   \n",
       "3     CEC23                    32.6     1.83   F                 0.20   \n",
       "\n",
       "   Internal Dose (uSv)  Telomere Length  \n",
       "0                  NaN         0.444298  \n",
       "1                  NaN         0.826190  \n",
       "2                  NaN         2.067214  \n",
       "3                  NaN         1.389182  "
      ]
     },
     "execution_count": 3,
     "metadata": {},
     "output_type": "execute_result"
    }
   ],
   "source": [
    "aryn_snake_df = pd.read_excel('../excel data/raw/boar snake master template.xlsx', sheet_name=1)\n",
    "aryn_snake_df.head(4)"
   ]
  },
  {
   "cell_type": "code",
   "execution_count": 17,
   "metadata": {},
   "outputs": [],
   "source": [
    "import re\n",
    "\n",
    "def natural_key(string_):\n",
    "    return [int(s) if s.isdigit() else s for s in re.split(r'(\\d+)', string_) if s]"
   ]
  },
  {
   "cell_type": "code",
   "execution_count": 18,
   "metadata": {},
   "outputs": [],
   "source": [
    "list_snake_ID = list(aryn_snake_df['Sample ID'].unique())"
   ]
  },
  {
   "cell_type": "code",
   "execution_count": 20,
   "metadata": {},
   "outputs": [],
   "source": [
    "# sorted(list_snake_ID, key=natural_key)"
   ]
  },
  {
   "cell_type": "code",
   "execution_count": 33,
   "metadata": {},
   "outputs": [],
   "source": [
    "# making column for radiation exposure status and encoded dummy variables from the new column\n",
    "\n",
    "aryn_snake_df = f_tm.readable_snake_df_dummy_variables(aryn_snake_df)"
   ]
  },
  {
   "cell_type": "markdown",
   "metadata": {},
   "source": [
    "### Saving Aryn's Snake dataframe for later retrieval"
   ]
  },
  {
   "cell_type": "code",
   "execution_count": 34,
   "metadata": {},
   "outputs": [],
   "source": [
    "aryn_snake_df.to_csv('../excel data/cleaned/aryn_snake_df.csv', index=False)"
   ]
  },
  {
   "cell_type": "markdown",
   "metadata": {},
   "source": [
    "### Reading Aryn's Boar data to dataframe"
   ]
  },
  {
   "cell_type": "code",
   "execution_count": 6,
   "metadata": {},
   "outputs": [
    {
     "data": {
      "text/html": [
       "<div>\n",
       "<style scoped>\n",
       "    .dataframe tbody tr th:only-of-type {\n",
       "        vertical-align: middle;\n",
       "    }\n",
       "\n",
       "    .dataframe tbody tr th {\n",
       "        vertical-align: top;\n",
       "    }\n",
       "\n",
       "    .dataframe thead th {\n",
       "        text-align: right;\n",
       "    }\n",
       "</style>\n",
       "<table border=\"1\" class=\"dataframe\">\n",
       "  <thead>\n",
       "    <tr style=\"text-align: right;\">\n",
       "      <th></th>\n",
       "      <th>Exposure Status</th>\n",
       "      <th>Sample ID</th>\n",
       "      <th>Sex</th>\n",
       "      <th>Age</th>\n",
       "      <th>Age Class</th>\n",
       "      <th>Estimated Age (months)</th>\n",
       "      <th>External Dose (uSv)</th>\n",
       "      <th>Internal Dose (uSv)</th>\n",
       "      <th>qPCR ID</th>\n",
       "      <th>Concentration (ng/mcL)</th>\n",
       "      <th>260/280</th>\n",
       "      <th>Normalized T/A Average (Average Telomere Length)</th>\n",
       "      <th>Cortisol</th>\n",
       "      <th>Dicentrics (TC-FISH)</th>\n",
       "      <th>PH anomalies</th>\n",
       "    </tr>\n",
       "  </thead>\n",
       "  <tbody>\n",
       "    <tr>\n",
       "      <th>0</th>\n",
       "      <td>Control</td>\n",
       "      <td>180526C3</td>\n",
       "      <td>M</td>\n",
       "      <td>NaN</td>\n",
       "      <td>Yearling</td>\n",
       "      <td>15</td>\n",
       "      <td>0.38</td>\n",
       "      <td>NaN</td>\n",
       "      <td>C1</td>\n",
       "      <td>14.5</td>\n",
       "      <td>1.90</td>\n",
       "      <td>0.910559</td>\n",
       "      <td>NaN</td>\n",
       "      <td>NaN</td>\n",
       "      <td>NaN</td>\n",
       "    </tr>\n",
       "    <tr>\n",
       "      <th>1</th>\n",
       "      <td>Control</td>\n",
       "      <td>180528C2</td>\n",
       "      <td>F</td>\n",
       "      <td>NaN</td>\n",
       "      <td>Juv</td>\n",
       "      <td>8</td>\n",
       "      <td>-</td>\n",
       "      <td>NaN</td>\n",
       "      <td>C2</td>\n",
       "      <td>17.3</td>\n",
       "      <td>1.73</td>\n",
       "      <td>0.985085</td>\n",
       "      <td>NaN</td>\n",
       "      <td>NaN</td>\n",
       "      <td>NaN</td>\n",
       "    </tr>\n",
       "    <tr>\n",
       "      <th>2</th>\n",
       "      <td>Control</td>\n",
       "      <td>180604C2</td>\n",
       "      <td>F</td>\n",
       "      <td>NaN</td>\n",
       "      <td>Yearling</td>\n",
       "      <td>18</td>\n",
       "      <td>0.46</td>\n",
       "      <td>NaN</td>\n",
       "      <td>C3</td>\n",
       "      <td>15.8</td>\n",
       "      <td>1.90</td>\n",
       "      <td>1.117980</td>\n",
       "      <td>NaN</td>\n",
       "      <td>NaN</td>\n",
       "      <td>NaN</td>\n",
       "    </tr>\n",
       "    <tr>\n",
       "      <th>3</th>\n",
       "      <td>Control</td>\n",
       "      <td>180612C1</td>\n",
       "      <td>M</td>\n",
       "      <td>NaN</td>\n",
       "      <td>Yearling</td>\n",
       "      <td>15</td>\n",
       "      <td>0.27</td>\n",
       "      <td>NaN</td>\n",
       "      <td>C4</td>\n",
       "      <td>13.1</td>\n",
       "      <td>1.60</td>\n",
       "      <td>1.260040</td>\n",
       "      <td>NaN</td>\n",
       "      <td>NaN</td>\n",
       "      <td>NaN</td>\n",
       "    </tr>\n",
       "  </tbody>\n",
       "</table>\n",
       "</div>"
      ],
      "text/plain": [
       "  Exposure Status Sample ID Sex  Age Age Class Estimated Age (months)  \\\n",
       "0         Control  180526C3   M  NaN  Yearling                     15   \n",
       "1         Control  180528C2   F  NaN       Juv                      8   \n",
       "2         Control  180604C2   F  NaN  Yearling                     18   \n",
       "3         Control  180612C1   M  NaN  Yearling                     15   \n",
       "\n",
       "  External Dose (uSv)  Internal Dose (uSv) qPCR ID  Concentration (ng/mcL)  \\\n",
       "0                0.38                  NaN      C1                    14.5   \n",
       "1                   -                  NaN      C2                    17.3   \n",
       "2                0.46                  NaN      C3                    15.8   \n",
       "3                0.27                  NaN      C4                    13.1   \n",
       "\n",
       "   260/280  Normalized T/A Average (Average Telomere Length)  Cortisol  \\\n",
       "0     1.90                                          0.910559       NaN   \n",
       "1     1.73                                          0.985085       NaN   \n",
       "2     1.90                                          1.117980       NaN   \n",
       "3     1.60                                          1.260040       NaN   \n",
       "\n",
       "   Dicentrics (TC-FISH)  PH anomalies  \n",
       "0                   NaN           NaN  \n",
       "1                   NaN           NaN  \n",
       "2                   NaN           NaN  \n",
       "3                   NaN           NaN  "
      ]
     },
     "execution_count": 6,
     "metadata": {},
     "output_type": "execute_result"
    }
   ],
   "source": [
    "aryn_boar_df = pd.read_excel('../excel data/raw/boar snake master template.xlsx', sheet_name=0)\n",
    "aryn_boar_df.head(4)"
   ]
  },
  {
   "cell_type": "code",
   "execution_count": 12,
   "metadata": {},
   "outputs": [],
   "source": [
    "list_boar_ID = list(aryn_boar_df['Sample ID'].unique())"
   ]
  },
  {
   "cell_type": "code",
   "execution_count": 15,
   "metadata": {},
   "outputs": [],
   "source": [
    "# sorted(list_boar_ID, key=natural_key)"
   ]
  },
  {
   "cell_type": "markdown",
   "metadata": {},
   "source": [
    "### Cleaning Aryn's boar dataframe"
   ]
  },
  {
   "cell_type": "code",
   "execution_count": 36,
   "metadata": {},
   "outputs": [],
   "source": [
    "# changing errant values to np.NaN\n",
    "aryn_boar_df = aryn_boar_df.replace('-', np.NaN)\n",
    "\n",
    "# encoding exposure status as dummy values\n",
    "dummies = pd.get_dummies(aryn_boar_df['Exposure Status'], prefix='Encoded', drop_first=True)\n",
    "aryn_boar_df['Encoded Exposed'] = dummies['Encoded_Exposed']\n",
    "\n",
    "# cleaning Sample ID of dashes & spaces, + 'GPS' & 'collar' terms\n",
    "aryn_boar_df['Sample ID'] = aryn_boar_df['Sample ID'].apply(lambda row: f_tm.remove_dashes_space_sampleIDs(row))"
   ]
  },
  {
   "cell_type": "code",
   "execution_count": 37,
   "metadata": {},
   "outputs": [],
   "source": [
    "aryn_boar_df.to_csv('../excel data/cleaned/aryn_boar_df.csv', index=False)"
   ]
  },
  {
   "cell_type": "markdown",
   "metadata": {
    "toc-hr-collapsed": true
   },
   "source": [
    "## Cortisol Data\n",
    "---"
   ]
  },
  {
   "cell_type": "markdown",
   "metadata": {},
   "source": [
    "### Reading the boar cortisol data"
   ]
  },
  {
   "cell_type": "code",
   "execution_count": 38,
   "metadata": {},
   "outputs": [
    {
     "data": {
      "text/html": [
       "<div>\n",
       "<style scoped>\n",
       "    .dataframe tbody tr th:only-of-type {\n",
       "        vertical-align: middle;\n",
       "    }\n",
       "\n",
       "    .dataframe tbody tr th {\n",
       "        vertical-align: top;\n",
       "    }\n",
       "\n",
       "    .dataframe thead th {\n",
       "        text-align: right;\n",
       "    }\n",
       "</style>\n",
       "<table border=\"1\" class=\"dataframe\">\n",
       "  <thead>\n",
       "    <tr style=\"text-align: right;\">\n",
       "      <th></th>\n",
       "      <th>Biel #</th>\n",
       "      <th>Date Received</th>\n",
       "      <th>Sample Number (electronic sheet)</th>\n",
       "      <th>Sample ID</th>\n",
       "      <th>Hair wt (mg)</th>\n",
       "      <th>Cortisol (pg/mg)</th>\n",
       "      <th>Re-run</th>\n",
       "      <th>MeOH Color</th>\n",
       "      <th>pH optimal for assay</th>\n",
       "      <th>Hair Type</th>\n",
       "      <th>Hair Length (cm)</th>\n",
       "      <th>Color</th>\n",
       "      <th>Comments</th>\n",
       "      <th>Worked on sample, but not able to process</th>\n",
       "      <th>Hair Took Extra Time</th>\n",
       "      <th>Repeats</th>\n",
       "    </tr>\n",
       "  </thead>\n",
       "  <tbody>\n",
       "    <tr>\n",
       "      <th>0</th>\n",
       "      <td>1</td>\n",
       "      <td>43518</td>\n",
       "      <td>160804-1</td>\n",
       "      <td>160804-1</td>\n",
       "      <td>17.19</td>\n",
       "      <td>22.990111</td>\n",
       "      <td>N</td>\n",
       "      <td>N</td>\n",
       "      <td>normal</td>\n",
       "      <td>course, short</td>\n",
       "      <td>3.81</td>\n",
       "      <td>black scalp and tip ends with tan middle</td>\n",
       "      <td>0</td>\n",
       "      <td>0</td>\n",
       "      <td>0</td>\n",
       "      <td>0</td>\n",
       "    </tr>\n",
       "    <tr>\n",
       "      <th>1</th>\n",
       "      <td>2</td>\n",
       "      <td>43518</td>\n",
       "      <td>161215 T-1</td>\n",
       "      <td>161215 T-1</td>\n",
       "      <td>25.28</td>\n",
       "      <td>29.120000</td>\n",
       "      <td>N</td>\n",
       "      <td>N</td>\n",
       "      <td>normal</td>\n",
       "      <td>course with split ends</td>\n",
       "      <td>5.02</td>\n",
       "      <td>black with tan tips and scalp end</td>\n",
       "      <td>0</td>\n",
       "      <td>0</td>\n",
       "      <td>0</td>\n",
       "      <td>0</td>\n",
       "    </tr>\n",
       "    <tr>\n",
       "      <th>2</th>\n",
       "      <td>3</td>\n",
       "      <td>43518</td>\n",
       "      <td>161215 T-2</td>\n",
       "      <td>161215 T-2</td>\n",
       "      <td>15.85</td>\n",
       "      <td>27.255521</td>\n",
       "      <td>N</td>\n",
       "      <td>N</td>\n",
       "      <td>normal</td>\n",
       "      <td>course with split ends</td>\n",
       "      <td>5.88</td>\n",
       "      <td>black with brown tips</td>\n",
       "      <td>0</td>\n",
       "      <td>0</td>\n",
       "      <td>0</td>\n",
       "      <td>0</td>\n",
       "    </tr>\n",
       "    <tr>\n",
       "      <th>3</th>\n",
       "      <td>4</td>\n",
       "      <td>43518</td>\n",
       "      <td>161130-1 O-210 collar</td>\n",
       "      <td>161130-1 O-210 collar</td>\n",
       "      <td>22.84</td>\n",
       "      <td>17.120000</td>\n",
       "      <td>N</td>\n",
       "      <td>N</td>\n",
       "      <td>normal</td>\n",
       "      <td>course with slightly split ends</td>\n",
       "      <td>7.02</td>\n",
       "      <td>black with brown tips</td>\n",
       "      <td>0</td>\n",
       "      <td>0</td>\n",
       "      <td>0</td>\n",
       "      <td>0</td>\n",
       "    </tr>\n",
       "  </tbody>\n",
       "</table>\n",
       "</div>"
      ],
      "text/plain": [
       "   Biel #  Date Received Sample Number (electronic sheet)  \\\n",
       "0       1          43518                        160804-1    \n",
       "1       2          43518                      161215 T-1    \n",
       "2       3          43518                       161215 T-2   \n",
       "3       4          43518            161130-1 O-210 collar   \n",
       "\n",
       "               Sample ID  Hair wt (mg)  Cortisol (pg/mg) Re-run MeOH Color  \\\n",
       "0               160804-1         17.19         22.990111      N          N   \n",
       "1             161215 T-1         25.28         29.120000      N          N   \n",
       "2             161215 T-2         15.85         27.255521      N          N   \n",
       "3  161130-1 O-210 collar         22.84         17.120000      N          N   \n",
       "\n",
       "  pH optimal for assay                        Hair Type  Hair Length (cm)  \\\n",
       "0               normal                    course, short              3.81   \n",
       "1               normal           course with split ends              5.02   \n",
       "2               normal           course with split ends              5.88   \n",
       "3               normal  course with slightly split ends              7.02   \n",
       "\n",
       "                                      Color Comments  \\\n",
       "0  black scalp and tip ends with tan middle        0   \n",
       "1         black with tan tips and scalp end        0   \n",
       "2                     black with brown tips        0   \n",
       "3                     black with brown tips        0   \n",
       "\n",
       "   Worked on sample, but not able to process  Hair Took Extra Time  Repeats  \n",
       "0                                          0                     0        0  \n",
       "1                                          0                     0        0  \n",
       "2                                          0                     0        0  \n",
       "3                                          0                     0        0  "
      ]
     },
     "execution_count": 38,
     "metadata": {},
     "output_type": "execute_result"
    }
   ],
   "source": [
    "boar_cortisol_df = pd.read_excel('../excel data/raw/boar cortisol.xlsx')\n",
    "boar_cortisol_df.head(4)"
   ]
  },
  {
   "cell_type": "markdown",
   "metadata": {},
   "source": [
    "### Prep boar cortisol data for merging with other dataframes on Sample ID"
   ]
  },
  {
   "cell_type": "code",
   "execution_count": 39,
   "metadata": {},
   "outputs": [
    {
     "data": {
      "text/html": [
       "<div>\n",
       "<style scoped>\n",
       "    .dataframe tbody tr th:only-of-type {\n",
       "        vertical-align: middle;\n",
       "    }\n",
       "\n",
       "    .dataframe tbody tr th {\n",
       "        vertical-align: top;\n",
       "    }\n",
       "\n",
       "    .dataframe thead th {\n",
       "        text-align: right;\n",
       "    }\n",
       "</style>\n",
       "<table border=\"1\" class=\"dataframe\">\n",
       "  <thead>\n",
       "    <tr style=\"text-align: right;\">\n",
       "      <th></th>\n",
       "      <th>Sample ID</th>\n",
       "      <th>Sample Number (electronic sheet)</th>\n",
       "      <th>Cortisol (pg/mg)</th>\n",
       "    </tr>\n",
       "  </thead>\n",
       "  <tbody>\n",
       "    <tr>\n",
       "      <th>0</th>\n",
       "      <td>1608041</td>\n",
       "      <td>160804-1</td>\n",
       "      <td>22.990111</td>\n",
       "    </tr>\n",
       "    <tr>\n",
       "      <th>1</th>\n",
       "      <td>161215T1</td>\n",
       "      <td>161215 T-1</td>\n",
       "      <td>29.120000</td>\n",
       "    </tr>\n",
       "    <tr>\n",
       "      <th>2</th>\n",
       "      <td>161215T2</td>\n",
       "      <td>161215 T-2</td>\n",
       "      <td>27.255521</td>\n",
       "    </tr>\n",
       "    <tr>\n",
       "      <th>3</th>\n",
       "      <td>1611301O210</td>\n",
       "      <td>161130-1 O-210 collar</td>\n",
       "      <td>17.120000</td>\n",
       "    </tr>\n",
       "  </tbody>\n",
       "</table>\n",
       "</div>"
      ],
      "text/plain": [
       "     Sample ID Sample Number (electronic sheet)  Cortisol (pg/mg)\n",
       "0      1608041                        160804-1          22.990111\n",
       "1     161215T1                      161215 T-1          29.120000\n",
       "2     161215T2                       161215 T-2         27.255521\n",
       "3  1611301O210            161130-1 O-210 collar         17.120000"
      ]
     },
     "execution_count": 39,
     "metadata": {},
     "output_type": "execute_result"
    }
   ],
   "source": [
    "# grabbing Sample IDs column in new dataframe, preserving index\n",
    "prep_boar_cortisol_df = pd.DataFrame(boar_cortisol_df['Sample ID'])\n",
    "\n",
    "# grabbing the Cortisol measurements & Sample Number (electronic sheet)\n",
    "prep_boar_cortisol_df['Sample Number (electronic sheet)'] = boar_cortisol_df['Sample Number (electronic sheet)']\n",
    "prep_boar_cortisol_df['Cortisol (pg/mg)'] = boar_cortisol_df['Cortisol (pg/mg)']\n",
    "\n",
    "prep_boar_cortisol_df['Sample ID'] = prep_boar_cortisol_df['Sample ID'].astype('str')\n",
    "\n",
    "# removing dashes/spaces & terms 'GPS' + 'collar' from sample IDs\n",
    "prep_boar_cortisol_df['Sample ID'] = prep_boar_cortisol_df['Sample ID'].apply(lambda row: f_tm.remove_dashes_space_sampleIDs(row))\n",
    "\n",
    "prep_boar_cortisol_df.head(4)"
   ]
  },
  {
   "cell_type": "markdown",
   "metadata": {},
   "source": [
    "### Saving prepped cortisol data for later retrieval"
   ]
  },
  {
   "cell_type": "code",
   "execution_count": 40,
   "metadata": {},
   "outputs": [],
   "source": [
    "prep_boar_cortisol_df.to_csv('../excel data/cleaned/prep_boar_cortisol_df.csv', index=False)"
   ]
  },
  {
   "cell_type": "markdown",
   "metadata": {
    "toc-hr-collapsed": true
   },
   "source": [
    "## Kelly's Data (teloFISH, dicentrics)\n",
    "---"
   ]
  },
  {
   "cell_type": "markdown",
   "metadata": {},
   "source": [
    "### Extracting Kelly's boar telomere FISH data"
   ]
  },
  {
   "cell_type": "code",
   "execution_count": 13,
   "metadata": {},
   "outputs": [],
   "source": [
    "# boar_teloFISH_list = f_tm.extract_boar_teloFISH_as_list('../excel data/raw/')"
   ]
  },
  {
   "cell_type": "markdown",
   "metadata": {},
   "source": [
    "### Formatting telomere FISH data"
   ]
  },
  {
   "cell_type": "code",
   "execution_count": 35,
   "metadata": {},
   "outputs": [
    {
     "ename": "NameError",
     "evalue": "name 'boar_teloFISH_list' is not defined",
     "output_type": "error",
     "traceback": [
      "\u001b[0;31m---------------------------------------------------------------------------\u001b[0m",
      "\u001b[0;31mNameError\u001b[0m                                 Traceback (most recent call last)",
      "\u001b[0;32m<ipython-input-35-3caf13e19a1a>\u001b[0m in \u001b[0;36m<module>\u001b[0;34m\u001b[0m\n\u001b[1;32m      1\u001b[0m \u001b[0;31m# making a dataframe from the list\u001b[0m\u001b[0;34m\u001b[0m\u001b[0;34m\u001b[0m\u001b[0;34m\u001b[0m\u001b[0m\n\u001b[0;32m----> 2\u001b[0;31m \u001b[0mkelly_boar_teloFISH_df\u001b[0m \u001b[0;34m=\u001b[0m \u001b[0mpd\u001b[0m\u001b[0;34m.\u001b[0m\u001b[0mDataFrame\u001b[0m\u001b[0;34m(\u001b[0m\u001b[0mboar_teloFISH_list\u001b[0m\u001b[0;34m,\u001b[0m \u001b[0mcolumns\u001b[0m\u001b[0;34m=\u001b[0m\u001b[0;34m[\u001b[0m\u001b[0;34m'Sample ID'\u001b[0m\u001b[0;34m,\u001b[0m \u001b[0;34m'teloFISH data'\u001b[0m\u001b[0;34m,\u001b[0m \u001b[0;34m'teloFISH means'\u001b[0m\u001b[0;34m]\u001b[0m\u001b[0;34m)\u001b[0m\u001b[0;34m\u001b[0m\u001b[0;34m\u001b[0m\u001b[0m\n\u001b[0m\u001b[1;32m      3\u001b[0m \u001b[0;34m\u001b[0m\u001b[0m\n\u001b[1;32m      4\u001b[0m \u001b[0;31m# turning the teloFISH data, which is a series in each row containing 4800 individial telomere lengths,\u001b[0m\u001b[0;34m\u001b[0m\u001b[0;34m\u001b[0m\u001b[0;34m\u001b[0m\u001b[0m\n\u001b[1;32m      5\u001b[0m \u001b[0;31m# into a list in each row so that it's saved & loaded properly\u001b[0m\u001b[0;34m\u001b[0m\u001b[0;34m\u001b[0m\u001b[0;34m\u001b[0m\u001b[0m\n",
      "\u001b[0;31mNameError\u001b[0m: name 'boar_teloFISH_list' is not defined"
     ]
    }
   ],
   "source": [
    "# making a dataframe from the list\n",
    "kelly_boar_teloFISH_df = pd.DataFrame(boar_teloFISH_list, columns=['Sample ID', 'teloFISH data', 'teloFISH means'])\n",
    "\n",
    "# turning the teloFISH data, which is a series in each row containing 4800 individial telomere lengths, \n",
    "# into a list in each row so that it's saved & loaded properly\n",
    "kelly_boar_teloFISH_df['teloFISH data'] = kelly_boar_teloFISH_df['teloFISH data'].apply(lambda row: row.tolist())\n",
    "kelly_boar_teloFISH_df['Sample ID'] = kelly_boar_teloFISH_df['Sample ID'].apply(lambda row: f_tm.remove_dashes_space_sampleIDs(row))\n",
    "\n",
    "kelly_boar_teloFISH_df.head(4)"
   ]
  },
  {
   "cell_type": "markdown",
   "metadata": {},
   "source": [
    "### Saving kelly boar teloFISH dataframe for later retrieval"
   ]
  },
  {
   "cell_type": "code",
   "execution_count": null,
   "metadata": {},
   "outputs": [],
   "source": [
    "kelly_boar_teloFISH_df.to_csv('../excel data/cleaned/kelly_boar_teloFISH_df.csv', index=False)"
   ]
  },
  {
   "cell_type": "markdown",
   "metadata": {},
   "source": [
    "### Loading Kelly boar dicentric data"
   ]
  },
  {
   "cell_type": "code",
   "execution_count": 15,
   "metadata": {},
   "outputs": [],
   "source": [
    "kelly_boar_dicentrics = pd.read_excel('../excel data/raw/Fukushima Dicentrics.xlsx')"
   ]
  },
  {
   "cell_type": "code",
   "execution_count": 16,
   "metadata": {},
   "outputs": [
    {
     "data": {
      "text/html": [
       "<div>\n",
       "<style scoped>\n",
       "    .dataframe tbody tr th:only-of-type {\n",
       "        vertical-align: middle;\n",
       "    }\n",
       "\n",
       "    .dataframe tbody tr th {\n",
       "        vertical-align: top;\n",
       "    }\n",
       "\n",
       "    .dataframe thead th {\n",
       "        text-align: right;\n",
       "    }\n",
       "</style>\n",
       "<table border=\"1\" class=\"dataframe\">\n",
       "  <thead>\n",
       "    <tr style=\"text-align: right;\">\n",
       "      <th></th>\n",
       "      <th>Sample ID</th>\n",
       "      <th>Average Dicentrics per cell</th>\n",
       "    </tr>\n",
       "  </thead>\n",
       "  <tbody>\n",
       "    <tr>\n",
       "      <th>0</th>\n",
       "      <td>1607261</td>\n",
       "      <td>0.01000</td>\n",
       "    </tr>\n",
       "    <tr>\n",
       "      <th>1</th>\n",
       "      <td>1608012</td>\n",
       "      <td>0.03000</td>\n",
       "    </tr>\n",
       "    <tr>\n",
       "      <th>2</th>\n",
       "      <td>1606101</td>\n",
       "      <td>0.04000</td>\n",
       "    </tr>\n",
       "    <tr>\n",
       "      <th>3</th>\n",
       "      <td>1611261O205</td>\n",
       "      <td>0.01087</td>\n",
       "    </tr>\n",
       "  </tbody>\n",
       "</table>\n",
       "</div>"
      ],
      "text/plain": [
       "     Sample ID  Average Dicentrics per cell\n",
       "0      1607261                      0.01000\n",
       "1      1608012                      0.03000\n",
       "2      1606101                      0.04000\n",
       "3  1611261O205                      0.01087"
      ]
     },
     "execution_count": 16,
     "metadata": {},
     "output_type": "execute_result"
    }
   ],
   "source": [
    "kelly_boar_dicentrics.rename(columns={'Pig ID': 'Sample ID'}, inplace=True)\n",
    "kelly_boar_dicentrics['Sample ID'] = kelly_boar_dicentrics['Sample ID'].apply(lambda row: f_tm.remove_dashes_space_sampleIDs(row))\n",
    "kelly_boar_dicentrics['Average Dicentrics per cell'] = kelly_boar_dicentrics['Dicentrics']/kelly_boar_dicentrics['Total Scored']                                       \n",
    "kelly_boar_dicentrics.drop(['Dicentric Images', 'Notes', 'Dicentrics', 'Total Scored'], axis=1, inplace=True)\n",
    "\n",
    "kelly_boar_dicentrics.head(4)"
   ]
  },
  {
   "cell_type": "markdown",
   "metadata": {},
   "source": [
    "### Saving kelly boar dicentrics dataframe for later retrieval"
   ]
  },
  {
   "cell_type": "code",
   "execution_count": 17,
   "metadata": {},
   "outputs": [],
   "source": [
    "kelly_boar_dicentrics.to_csv('../excel data/cleaned/kelly_boar_dicentrics_df.csv', index=False)"
   ]
  },
  {
   "cell_type": "markdown",
   "metadata": {},
   "source": [
    "### Loading New Radiation Exposure Calculations for Kelly Boar Data "
   ]
  },
  {
   "cell_type": "code",
   "execution_count": 53,
   "metadata": {},
   "outputs": [],
   "source": [
    "kelly_boar_teloFISH_df = pd.read_csv('../excel data/cleaned/kelly_boar_teloFISH_df.csv')"
   ]
  },
  {
   "cell_type": "code",
   "execution_count": 54,
   "metadata": {},
   "outputs": [],
   "source": [
    "kelly_new_exposure_df = pd.read_excel(\"../excel data/raw/jared_editsKelly's boar_1Dec2018-edited1Aug19 (1).xlsx\")"
   ]
  },
  {
   "cell_type": "code",
   "execution_count": 55,
   "metadata": {},
   "outputs": [
    {
     "name": "stdout",
     "output_type": "stream",
     "text": [
      "12\n"
     ]
    }
   ],
   "source": [
    "cols_to_merge = ['ID', 'Sex', 'Age (weeks)', \n",
    "# 'Place name', 'Area', 'Lat.', 'Lon.',\n",
    "'INTERNAL uGy/h Cs-134', 'INTERNAL uGy/h Cs-137',\n",
    "'INTERNAL Life time dose,   mGy 134',\n",
    "'(from wolfram) Build-up, corrected, Integrated INTERNAL LIFE-TIME dose mGy  Cs134',\n",
    "'INTERNAL Life time dose, mGy 137',\n",
    "'INTERNAL Life time dose, mGy 134+137',\n",
    "'EXTERNAL Dose Reasonable Life Time, mGy (134+137)',\n",
    "'% of INTERNAL to EXTERNAL dose',\n",
    "'EXTERNAL Dose Maximum Life Time, mGy (134+137)',\n",
    "'Reasonable Total Life Time Dose mGy (Int+Ext,134+137)',\n",
    "'Maximum Total Life Time Dose mGy (Int+Ext,134+137)',\n",
    "'Dose rate (uGy/h) at time of capture (Int+Ext; 134+137)']\n",
    "\n",
    "print(len(cols_to_merge) - 3)"
   ]
  },
  {
   "cell_type": "code",
   "execution_count": 56,
   "metadata": {},
   "outputs": [],
   "source": [
    "trim_kelly_new_exposure_df = pd.DataFrame(kelly_new_exposure_df[cols_to_merge])"
   ]
  },
  {
   "cell_type": "code",
   "execution_count": 57,
   "metadata": {},
   "outputs": [],
   "source": [
    "(trim_kelly_new_exposure_df.rename(columns={\n",
    "'ID':'Sample ID', \n",
    "'(from wolfram) Build-up, corrected, Integrated INTERNAL LIFE-TIME dose mGy  Cs134':'Integrated INTERNAL LIFE-TIME dose mGy  Cs134',\n",
    "'INTERNAL Life time dose, mGy 134+137': 'INTERNAL Life time dose, mGy Cs 134+137',\n",
    "'INTERNAL Life time dose,   mGy 134': 'INTERNAL Life time dose, mGy 134',\n",
    "'EXTERNAL Dose Reasonable Life Time, mGy (134+137)':'EXTERNAL Dose Reasonable Life Time, mGy Cs 134+137',\n",
    "'Reasonable Total Life Time Dose mGy (Int+Ext,134+137)': 'Reasonable Total Life Time Dose mGy (Int+Ext, Cs 134+137)'}, \n",
    "inplace=True))"
   ]
  },
  {
   "cell_type": "code",
   "execution_count": 58,
   "metadata": {},
   "outputs": [
    {
     "data": {
      "text/html": [
       "<div>\n",
       "<style scoped>\n",
       "    .dataframe tbody tr th:only-of-type {\n",
       "        vertical-align: middle;\n",
       "    }\n",
       "\n",
       "    .dataframe tbody tr th {\n",
       "        vertical-align: top;\n",
       "    }\n",
       "\n",
       "    .dataframe thead th {\n",
       "        text-align: right;\n",
       "    }\n",
       "</style>\n",
       "<table border=\"1\" class=\"dataframe\">\n",
       "  <thead>\n",
       "    <tr style=\"text-align: right;\">\n",
       "      <th></th>\n",
       "      <th>Sample ID</th>\n",
       "      <th>Sex</th>\n",
       "      <th>Age (weeks)</th>\n",
       "      <th>INTERNAL uGy/h Cs-134</th>\n",
       "      <th>INTERNAL uGy/h Cs-137</th>\n",
       "      <th>INTERNAL Life time dose, mGy 134</th>\n",
       "      <th>Integrated INTERNAL LIFE-TIME dose mGy  Cs134</th>\n",
       "      <th>INTERNAL Life time dose, mGy 137</th>\n",
       "      <th>INTERNAL Life time dose, mGy Cs 134+137</th>\n",
       "      <th>EXTERNAL Dose Reasonable Life Time, mGy Cs 134+137</th>\n",
       "      <th>% of INTERNAL to EXTERNAL dose</th>\n",
       "      <th>EXTERNAL Dose Maximum Life Time, mGy (134+137)</th>\n",
       "      <th>Reasonable Total Life Time Dose mGy (Int+Ext, Cs 134+137)</th>\n",
       "      <th>Maximum Total Life Time Dose mGy (Int+Ext,134+137)</th>\n",
       "      <th>Dose rate (uGy/h) at time of capture (Int+Ext; 134+137)</th>\n",
       "    </tr>\n",
       "  </thead>\n",
       "  <tbody>\n",
       "    <tr>\n",
       "      <th>0</th>\n",
       "      <td>1606101</td>\n",
       "      <td>Male</td>\n",
       "      <td>33-39</td>\n",
       "      <td>0.0991863</td>\n",
       "      <td>0.307031</td>\n",
       "      <td>0.599879</td>\n",
       "      <td>0.672739</td>\n",
       "      <td>1.856921</td>\n",
       "      <td>2.529660</td>\n",
       "      <td>57.456</td>\n",
       "      <td>4.40278</td>\n",
       "      <td>57.456</td>\n",
       "      <td>59.985660</td>\n",
       "      <td>59.985660</td>\n",
       "      <td>7.406217</td>\n",
       "    </tr>\n",
       "    <tr>\n",
       "      <th>1</th>\n",
       "      <td>1606102</td>\n",
       "      <td>Female</td>\n",
       "      <td>26</td>\n",
       "      <td>0.171091</td>\n",
       "      <td>0.568404</td>\n",
       "      <td>0.747327</td>\n",
       "      <td>0.812612</td>\n",
       "      <td>2.482790</td>\n",
       "      <td>3.295402</td>\n",
       "      <td>61.152</td>\n",
       "      <td>5.38887</td>\n",
       "      <td>82.992</td>\n",
       "      <td>64.447402</td>\n",
       "      <td>86.287402</td>\n",
       "      <td>3.739496</td>\n",
       "    </tr>\n",
       "    <tr>\n",
       "      <th>2</th>\n",
       "      <td>1606103</td>\n",
       "      <td>Male</td>\n",
       "      <td>27-31</td>\n",
       "      <td>0.151089</td>\n",
       "      <td>0.494718</td>\n",
       "      <td>0.736103</td>\n",
       "      <td>0.808553</td>\n",
       "      <td>2.410267</td>\n",
       "      <td>3.218820</td>\n",
       "      <td>68.208</td>\n",
       "      <td>4.71912</td>\n",
       "      <td>92.568</td>\n",
       "      <td>71.426820</td>\n",
       "      <td>95.786820</td>\n",
       "      <td>3.645807</td>\n",
       "    </tr>\n",
       "    <tr>\n",
       "      <th>3</th>\n",
       "      <td>1607205</td>\n",
       "      <td>Male</td>\n",
       "      <td>6-9</td>\n",
       "      <td>0.00951251</td>\n",
       "      <td>0.028632</td>\n",
       "      <td>0.0119858</td>\n",
       "      <td>0.012258</td>\n",
       "      <td>0.036077</td>\n",
       "      <td>0.048335</td>\n",
       "      <td>0.882</td>\n",
       "      <td>5.48015</td>\n",
       "      <td>1.260</td>\n",
       "      <td>0.930335</td>\n",
       "      <td>1.308335</td>\n",
       "      <td>0.738145</td>\n",
       "    </tr>\n",
       "  </tbody>\n",
       "</table>\n",
       "</div>"
      ],
      "text/plain": [
       "  Sample ID     Sex Age (weeks) INTERNAL uGy/h Cs-134  INTERNAL uGy/h Cs-137  \\\n",
       "0   1606101    Male       33-39             0.0991863               0.307031   \n",
       "1   1606102  Female          26              0.171091               0.568404   \n",
       "2   1606103    Male       27-31              0.151089               0.494718   \n",
       "3   1607205    Male         6-9            0.00951251               0.028632   \n",
       "\n",
       "  INTERNAL Life time dose, mGy 134  \\\n",
       "0                         0.599879   \n",
       "1                         0.747327   \n",
       "2                         0.736103   \n",
       "3                        0.0119858   \n",
       "\n",
       "   Integrated INTERNAL LIFE-TIME dose mGy  Cs134  \\\n",
       "0                                       0.672739   \n",
       "1                                       0.812612   \n",
       "2                                       0.808553   \n",
       "3                                       0.012258   \n",
       "\n",
       "   INTERNAL Life time dose, mGy 137  INTERNAL Life time dose, mGy Cs 134+137  \\\n",
       "0                          1.856921                                 2.529660   \n",
       "1                          2.482790                                 3.295402   \n",
       "2                          2.410267                                 3.218820   \n",
       "3                          0.036077                                 0.048335   \n",
       "\n",
       "   EXTERNAL Dose Reasonable Life Time, mGy Cs 134+137  \\\n",
       "0                                             57.456    \n",
       "1                                             61.152    \n",
       "2                                             68.208    \n",
       "3                                              0.882    \n",
       "\n",
       "  % of INTERNAL to EXTERNAL dose  \\\n",
       "0                        4.40278   \n",
       "1                        5.38887   \n",
       "2                        4.71912   \n",
       "3                        5.48015   \n",
       "\n",
       "   EXTERNAL Dose Maximum Life Time, mGy (134+137)  \\\n",
       "0                                          57.456   \n",
       "1                                          82.992   \n",
       "2                                          92.568   \n",
       "3                                           1.260   \n",
       "\n",
       "   Reasonable Total Life Time Dose mGy (Int+Ext, Cs 134+137)  \\\n",
       "0                                          59.985660           \n",
       "1                                          64.447402           \n",
       "2                                          71.426820           \n",
       "3                                           0.930335           \n",
       "\n",
       "   Maximum Total Life Time Dose mGy (Int+Ext,134+137)  \\\n",
       "0                                          59.985660    \n",
       "1                                          86.287402    \n",
       "2                                          95.786820    \n",
       "3                                           1.308335    \n",
       "\n",
       "   Dose rate (uGy/h) at time of capture (Int+Ext; 134+137)  \n",
       "0                                           7.406217        \n",
       "1                                           3.739496        \n",
       "2                                           3.645807        \n",
       "3                                           0.738145        "
      ]
     },
     "execution_count": 58,
     "metadata": {},
     "output_type": "execute_result"
    }
   ],
   "source": [
    "trim_kelly_new_exposure_df['Sample ID'] = trim_kelly_new_exposure_df['Sample ID'].apply(lambda row: f_tm.remove_dashes_space_sampleIDs(row))\n",
    "trim_kelly_new_exposure_df.head(4)"
   ]
  },
  {
   "cell_type": "markdown",
   "metadata": {},
   "source": [
    "### Saving Kelly boar new exposure data for later retrieval"
   ]
  },
  {
   "cell_type": "code",
   "execution_count": 59,
   "metadata": {},
   "outputs": [],
   "source": [
    "## cleaning age (weeks) col\n",
    "trim_kelly_new_exposure_df.to_csv('../excel data/cleaned/trim_kelly_new_exposure_df.csv', index=False)\n",
    "\n",
    "# trim_kelly_new_exposure_df2 = trim_kelly_new_exposure_df\n",
    "# trim_kelly_new_exposure_df2.to_excel('../excel data/cleaned/trim_kelly_new_exposure_df.xlsx', index=False)"
   ]
  },
  {
   "cell_type": "markdown",
   "metadata": {},
   "source": [
    "### Saving Dicentrics + exposure merge"
   ]
  },
  {
   "cell_type": "code",
   "execution_count": 46,
   "metadata": {},
   "outputs": [],
   "source": [
    "kelly_dicentrics_exposure_df = trim_kelly_new_exposure_df.merge(kelly_boar_dicentrics, on=['Sample ID'])\n",
    "kelly_dicentrics_exposure_df.to_csv(\"../excel data/graphing/kelly_dicentrics_exposure_df.csv\", index=False)"
   ]
  },
  {
   "cell_type": "markdown",
   "metadata": {},
   "source": [
    "### Briefly looking at sharing samples between kelly's boar w/ teloFISH data vs. the exposure data & cortisol data"
   ]
  },
  {
   "cell_type": "code",
   "execution_count": 48,
   "metadata": {},
   "outputs": [
    {
     "name": "stdout",
     "output_type": "stream",
     "text": [
      "The number of sample IDs in common are: 38\n",
      "The number of sample IDs in common are: 14\n"
     ]
    }
   ],
   "source": [
    "df_list = [trim_kelly_new_exposure_df, prep_boar_cortisol_df]\n",
    "\n",
    "for df in df_list:\n",
    "    f_tm.count_shared_sample_IDs(kelly_boar_teloFISH_df, df, print_names='no')"
   ]
  },
  {
   "cell_type": "code",
   "execution_count": 49,
   "metadata": {},
   "outputs": [
    {
     "name": "stdout",
     "output_type": "stream",
     "text": [
      "['161209O239', '161209O240', '161209O242']\n"
     ]
    }
   ],
   "source": [
    "kelly_teloFISH_IDs = list(kelly_boar_teloFISH_df['Sample ID'].unique())\n",
    "kelly_exposure_IDs = list(trim_kelly_new_exposure_df['Sample ID'].unique())\n",
    "\n",
    "a = kelly_teloFISH_IDs\n",
    "b = kelly_exposure_IDs\n",
    "\n",
    "mismatched = [sample_ID for sample_ID in a if sample_ID not in b]\n",
    "print(mismatched)"
   ]
  },
  {
   "cell_type": "markdown",
   "metadata": {
    "toc-hr-collapsed": true
   },
   "source": [
    "## Josh's Data (PPHA)"
   ]
  },
  {
   "cell_type": "code",
   "execution_count": 114,
   "metadata": {},
   "outputs": [],
   "source": [
    "josh_sex_data = pd.read_excel('../excel data/raw/(Sam_Mag) Fukushima 2017 Data (1).xlsx', sheet_name=0)\n",
    "josh_sex_data = josh_sex_data.iloc[0:39, [0, 12]]\n",
    "\n",
    "josh_sex_data.rename(columns={'ID NUMBER': 'Sample ID'}, inplace=True)\n",
    "josh_sex_data['Sample ID'] = josh_sex_data['Sample ID'].astype('str')\n",
    "josh_sex_data['Sample ID'] = josh_sex_data['Sample ID'].apply(lambda row: f_tm.remove_dashes_space_sampleIDs(row))"
   ]
  },
  {
   "cell_type": "code",
   "execution_count": 115,
   "metadata": {},
   "outputs": [],
   "source": [
    "josh_ppha_df = pd.read_excel('../excel data/raw/PPHA concentration (1).xlsx')"
   ]
  },
  {
   "cell_type": "code",
   "execution_count": 116,
   "metadata": {},
   "outputs": [],
   "source": [
    "trimmed_josh_age_data = josh_ppha_df.iloc[0:39, [0, 3]]\n",
    "trimmed_josh_age_data.rename(columns={'ID NUMBER': 'Sample ID'}, inplace=True)\n",
    "trimmed_josh_age_data['Sample ID'] = trimmed_josh_age_data['Sample ID'].astype('str')\n",
    "trimmed_josh_age_data['Sample ID'] = trimmed_josh_age_data['Sample ID'].apply(lambda row: f_tm.remove_dashes_space_sampleIDs(row))"
   ]
  },
  {
   "cell_type": "code",
   "execution_count": 117,
   "metadata": {},
   "outputs": [],
   "source": [
    "trimmed_josh_ppha_df = josh_ppha_df.iloc[0:38, 9:15]\n",
    "trimmed_josh_ppha_df.rename(columns={'Boar ID':'Sample ID'}, inplace=True)\n",
    "trimmed_josh_ppha_df['Sample ID'] = trimmed_josh_ppha_df['Sample ID'].astype('str')\n",
    "trimmed_josh_ppha_df['Sample ID'] = trimmed_josh_ppha_df['Sample ID'].apply(lambda row: f_tm.remove_dashes_space_sampleIDs(row))"
   ]
  },
  {
   "cell_type": "code",
   "execution_count": 118,
   "metadata": {},
   "outputs": [],
   "source": [
    "merge_josh_ppha_df = trimmed_josh_age_data.merge(trimmed_josh_ppha_df, on='Sample ID')\n",
    "merge_josh_ppha_df.loc[1, 'Age (weeks)'] = 220\n",
    "merge_josh_ppha_df.loc[3, 'Age (weeks)'] = 220\n",
    "merge_josh_ppha_df.drop(13, axis=0, inplace=True)"
   ]
  },
  {
   "cell_type": "code",
   "execution_count": 119,
   "metadata": {},
   "outputs": [],
   "source": [
    "merge_josh_ppha_df['Age (weeks)'] = merge_josh_ppha_df['Age (weeks)'].apply(lambda row: f_tm.average_age_weeks(row))"
   ]
  },
  {
   "cell_type": "code",
   "execution_count": 121,
   "metadata": {},
   "outputs": [],
   "source": [
    "merge_josh_age_sex_ppha_df = merge_josh_ppha_df.merge(josh_sex_data, on='Sample ID')\n",
    "# merge_josh_age_sex_ppha_df "
   ]
  },
  {
   "cell_type": "code",
   "execution_count": 123,
   "metadata": {},
   "outputs": [],
   "source": [
    "merge_josh_ppha_df.to_csv('../excel data/cleaned/merge_josh_ppha_df.csv', index=False)\n",
    "merge_josh_age_sex_ppha_df.to_csv('../excel data/cleaned/merge_josh_age_sex_ppha_df.csv', index=False)"
   ]
  },
  {
   "cell_type": "markdown",
   "metadata": {},
   "source": [
    "### Merging with cortisol data"
   ]
  },
  {
   "cell_type": "code",
   "execution_count": 33,
   "metadata": {},
   "outputs": [
    {
     "ename": "NameError",
     "evalue": "name 'prep_boar_cortisol_df' is not defined",
     "output_type": "error",
     "traceback": [
      "\u001b[0;31m---------------------------------------------------------------------------\u001b[0m",
      "\u001b[0;31mNameError\u001b[0m                                 Traceback (most recent call last)",
      "\u001b[0;32m<ipython-input-33-29594a6e3467>\u001b[0m in \u001b[0;36m<module>\u001b[0;34m\u001b[0m\n\u001b[0;32m----> 1\u001b[0;31m \u001b[0mjosh_ppha_df_cortisol\u001b[0m \u001b[0;34m=\u001b[0m \u001b[0mtrimmed_josh_ppha_df\u001b[0m\u001b[0;34m.\u001b[0m\u001b[0mmerge\u001b[0m\u001b[0;34m(\u001b[0m\u001b[0mprep_boar_cortisol_df\u001b[0m\u001b[0;34m,\u001b[0m \u001b[0mon\u001b[0m\u001b[0;34m=\u001b[0m\u001b[0;34m[\u001b[0m\u001b[0;34m'Sample ID'\u001b[0m\u001b[0;34m]\u001b[0m\u001b[0;34m)\u001b[0m\u001b[0;34m\u001b[0m\u001b[0;34m\u001b[0m\u001b[0m\n\u001b[0m",
      "\u001b[0;31mNameError\u001b[0m: name 'prep_boar_cortisol_df' is not defined"
     ]
    }
   ],
   "source": [
    "josh_ppha_df_cortisol = trimmed_josh_ppha_df.merge(prep_boar_cortisol_df, on=['Sample ID'])"
   ]
  },
  {
   "cell_type": "markdown",
   "metadata": {},
   "source": [
    "### Saving to file"
   ]
  },
  {
   "cell_type": "code",
   "execution_count": 54,
   "metadata": {},
   "outputs": [],
   "source": [
    "josh_ppha_df_cortisol.to_csv('../excel data/cleaned/josh_ppha_df_cortisol.csv', index=False)"
   ]
  },
  {
   "cell_type": "code",
   "execution_count": null,
   "metadata": {},
   "outputs": [],
   "source": []
  }
 ],
 "metadata": {
  "kernelspec": {
   "display_name": "Python 3",
   "language": "python",
   "name": "python3"
  },
  "language_info": {
   "codemirror_mode": {
    "name": "ipython",
    "version": 3
   },
   "file_extension": ".py",
   "mimetype": "text/x-python",
   "name": "python",
   "nbconvert_exporter": "python",
   "pygments_lexer": "ipython3",
   "version": "3.7.4"
  }
 },
 "nbformat": 4,
 "nbformat_minor": 2
}
